{
  "cells": [
    {
      "cell_type": "markdown",
      "metadata": {
        "id": "view-in-github",
        "colab_type": "text"
      },
      "source": [
        "<a href=\"https://colab.research.google.com/github/manula96/Malcious-URL-Classifier/blob/main/FastAI_Experiments.ipynb\" target=\"_parent\"><img src=\"https://colab.research.google.com/assets/colab-badge.svg\" alt=\"Open In Colab\"/></a>"
      ]
    },
    {
      "cell_type": "markdown",
      "metadata": {
        "id": "rSFNOFFX6Bui"
      },
      "source": [
        "# FastAI Experiments Using Google Colab CPU"
      ]
    },
    {
      "cell_type": "markdown",
      "metadata": {
        "id": "EcQ3-_d86Bul"
      },
      "source": [
        "<a href=\"https://colab.research.google.com/github/rambasnet/DeepLearningMaliciousURLs/blob/master/FastAI-Experiments.ipynb\" target=\"_parent\"><img src=\"https://colab.research.google.com/assets/colab-badge.svg\" alt=\"Open In Colab\"/></a>"
      ]
    },
    {
      "cell_type": "markdown",
      "metadata": {
        "id": "MkJ6Tj396Bum"
      },
      "source": [
        "## Import Libraries"
      ]
    },
    {
      "cell_type": "code",
      "execution_count": 4,
      "metadata": {
        "id": "95n7L-kp6Bun"
      },
      "outputs": [],
      "source": [
        "from fastai.tabular import *\n",
        "import pandas as pd\n",
        "import numpy as np\n",
        "from sklearn.model_selection import train_test_split, StratifiedShuffleSplit\n",
        "import os\n",
        "import sys\n",
        "import glob\n",
        "from sklearn.utils import shuffle\n",
        "import matplotlib.pyplot as plt\n",
        "from sklearn import model_selection"
      ]
    },
    {
      "cell_type": "markdown",
      "metadata": {
        "id": "txrEW3F46Bup"
      },
      "source": [
        "### Note Notebook doesn't display all the rows and columns\n",
        "- let's fix that"
      ]
    },
    {
      "cell_type": "code",
      "execution_count": null,
      "metadata": {
        "id": "lydQ1S4V6Buq"
      },
      "outputs": [],
      "source": [
        "pd.options.display.max_columns = None\n",
        "pd.options.display.max_rows = None"
      ]
    },
    {
      "cell_type": "markdown",
      "metadata": {
        "id": "GNM4sQG96Bur"
      },
      "source": [
        "## Get dataset from mounted Drive\n"
      ]
    },
    {
      "cell_type": "code",
      "execution_count": 1,
      "metadata": {
        "colab": {
          "base_uri": "https://localhost:8080/"
        },
        "id": "3FR-o_aL6Bur",
        "outputId": "0bfa52af-c1fc-42ff-8f22-a49be475d813"
      },
      "outputs": [
        {
          "output_type": "stream",
          "name": "stdout",
          "text": [
            "sample_data\n",
            "Mounted at /content/gdrive\n"
          ]
        }
      ],
      "source": [
        "! ls #Mount gdrive\n",
        "from google.colab import drive\n",
        "drive.mount(\"/content/gdrive\")"
      ]
    },
    {
      "cell_type": "code",
      "source": [
        "#Import the dataset asa Pandas data frame\n",
        "df = pd.read_csv('/content/gdrive/My Drive/Research_datasets/All.csv')\n",
        "df.head(10)"
      ],
      "metadata": {
        "colab": {
          "base_uri": "https://localhost:8080/",
          "height": 456
        },
        "id": "JS4OdO5k6bBn",
        "outputId": "9da75a69-b4d9-4661-9dbb-5b8d97758fb9"
      },
      "execution_count": 5,
      "outputs": [
        {
          "output_type": "execute_result",
          "data": {
            "text/plain": [
              "   Querylength  domain_token_count  path_token_count  avgdomaintokenlen  \\\n",
              "0            0                   4                 5                5.5   \n",
              "1            0                   4                 5                5.5   \n",
              "2            0                   4                 5                5.5   \n",
              "3            0                   4                12                5.5   \n",
              "4            0                   4                 6                5.5   \n",
              "5            0                   4                 8                5.5   \n",
              "6            0                   4                 5                5.5   \n",
              "7            0                   4                 7                5.5   \n",
              "8            0                   4                 6                5.5   \n",
              "9            0                   4                 5                5.5   \n",
              "\n",
              "   longdomaintokenlen  avgpathtokenlen  tld  charcompvowels  charcompace  \\\n",
              "0                  14         4.400000    4               8            3   \n",
              "1                  14         6.000000    4              12            4   \n",
              "2                  14         5.800000    4              12            5   \n",
              "3                  14         5.500000    4              32           16   \n",
              "4                  14         7.333334    4              18           11   \n",
              "5                  14         6.500000    4              22           10   \n",
              "6                  14         7.800000    4              17           10   \n",
              "7                  14         6.285714    4              16            9   \n",
              "8                  14         6.500000    4              16           10   \n",
              "9                  14         3.600000    4               7            3   \n",
              "\n",
              "   ldl_url  ...  SymbolCount_FileName  SymbolCount_Extension  \\\n",
              "0        0  ...                     1                      0   \n",
              "1        0  ...                     0                      0   \n",
              "2        0  ...                     0                      0   \n",
              "3        0  ...                     0                      0   \n",
              "4        0  ...                     0                      0   \n",
              "5        0  ...                     0                      0   \n",
              "6        0  ...                     0                      0   \n",
              "7        0  ...                     0                      0   \n",
              "8        0  ...                     0                      0   \n",
              "9        0  ...                     1                      0   \n",
              "\n",
              "   SymbolCount_Afterpath  Entropy_URL  Entropy_Domain  Entropy_DirectoryName  \\\n",
              "0                     -1     0.726298        0.784493               0.894886   \n",
              "1                     -1     0.688635        0.784493               0.814725   \n",
              "2                     -1     0.695049        0.784493               0.814725   \n",
              "3                     -1     0.640130        0.784493               0.814725   \n",
              "4                     -1     0.681307        0.784493               0.814725   \n",
              "5                     -1     0.666676        0.784493               0.814725   \n",
              "6                     -1     0.682440        0.784493               0.814725   \n",
              "7                     -1     0.709396        0.784493               0.814725   \n",
              "8                     -1     0.678242        0.784493               0.814725   \n",
              "9                     -1     0.740950        0.784493               0.894886   \n",
              "\n",
              "   Entropy_Filename  Entropy_Extension  Entropy_Afterpath  URL_Type_obf_Type  \n",
              "0          0.850608                NaN               -1.0         Defacement  \n",
              "1          0.859793                0.0               -1.0         Defacement  \n",
              "2          0.801880                0.0               -1.0         Defacement  \n",
              "3          0.663210                0.0               -1.0         Defacement  \n",
              "4          0.804526                0.0               -1.0         Defacement  \n",
              "5          0.755658                0.0               -1.0         Defacement  \n",
              "6          0.766719                0.0               -1.0         Defacement  \n",
              "7          0.797498                0.0               -1.0         Defacement  \n",
              "8          0.732258                0.0               -1.0         Defacement  \n",
              "9          0.894886                NaN               -1.0         Defacement  \n",
              "\n",
              "[10 rows x 80 columns]"
            ],
            "text/html": [
              "\n",
              "  <div id=\"df-a8307757-cfef-4679-be8c-5df3a5f69be7\">\n",
              "    <div class=\"colab-df-container\">\n",
              "      <div>\n",
              "<style scoped>\n",
              "    .dataframe tbody tr th:only-of-type {\n",
              "        vertical-align: middle;\n",
              "    }\n",
              "\n",
              "    .dataframe tbody tr th {\n",
              "        vertical-align: top;\n",
              "    }\n",
              "\n",
              "    .dataframe thead th {\n",
              "        text-align: right;\n",
              "    }\n",
              "</style>\n",
              "<table border=\"1\" class=\"dataframe\">\n",
              "  <thead>\n",
              "    <tr style=\"text-align: right;\">\n",
              "      <th></th>\n",
              "      <th>Querylength</th>\n",
              "      <th>domain_token_count</th>\n",
              "      <th>path_token_count</th>\n",
              "      <th>avgdomaintokenlen</th>\n",
              "      <th>longdomaintokenlen</th>\n",
              "      <th>avgpathtokenlen</th>\n",
              "      <th>tld</th>\n",
              "      <th>charcompvowels</th>\n",
              "      <th>charcompace</th>\n",
              "      <th>ldl_url</th>\n",
              "      <th>...</th>\n",
              "      <th>SymbolCount_FileName</th>\n",
              "      <th>SymbolCount_Extension</th>\n",
              "      <th>SymbolCount_Afterpath</th>\n",
              "      <th>Entropy_URL</th>\n",
              "      <th>Entropy_Domain</th>\n",
              "      <th>Entropy_DirectoryName</th>\n",
              "      <th>Entropy_Filename</th>\n",
              "      <th>Entropy_Extension</th>\n",
              "      <th>Entropy_Afterpath</th>\n",
              "      <th>URL_Type_obf_Type</th>\n",
              "    </tr>\n",
              "  </thead>\n",
              "  <tbody>\n",
              "    <tr>\n",
              "      <th>0</th>\n",
              "      <td>0</td>\n",
              "      <td>4</td>\n",
              "      <td>5</td>\n",
              "      <td>5.5</td>\n",
              "      <td>14</td>\n",
              "      <td>4.400000</td>\n",
              "      <td>4</td>\n",
              "      <td>8</td>\n",
              "      <td>3</td>\n",
              "      <td>0</td>\n",
              "      <td>...</td>\n",
              "      <td>1</td>\n",
              "      <td>0</td>\n",
              "      <td>-1</td>\n",
              "      <td>0.726298</td>\n",
              "      <td>0.784493</td>\n",
              "      <td>0.894886</td>\n",
              "      <td>0.850608</td>\n",
              "      <td>NaN</td>\n",
              "      <td>-1.0</td>\n",
              "      <td>Defacement</td>\n",
              "    </tr>\n",
              "    <tr>\n",
              "      <th>1</th>\n",
              "      <td>0</td>\n",
              "      <td>4</td>\n",
              "      <td>5</td>\n",
              "      <td>5.5</td>\n",
              "      <td>14</td>\n",
              "      <td>6.000000</td>\n",
              "      <td>4</td>\n",
              "      <td>12</td>\n",
              "      <td>4</td>\n",
              "      <td>0</td>\n",
              "      <td>...</td>\n",
              "      <td>0</td>\n",
              "      <td>0</td>\n",
              "      <td>-1</td>\n",
              "      <td>0.688635</td>\n",
              "      <td>0.784493</td>\n",
              "      <td>0.814725</td>\n",
              "      <td>0.859793</td>\n",
              "      <td>0.0</td>\n",
              "      <td>-1.0</td>\n",
              "      <td>Defacement</td>\n",
              "    </tr>\n",
              "    <tr>\n",
              "      <th>2</th>\n",
              "      <td>0</td>\n",
              "      <td>4</td>\n",
              "      <td>5</td>\n",
              "      <td>5.5</td>\n",
              "      <td>14</td>\n",
              "      <td>5.800000</td>\n",
              "      <td>4</td>\n",
              "      <td>12</td>\n",
              "      <td>5</td>\n",
              "      <td>0</td>\n",
              "      <td>...</td>\n",
              "      <td>0</td>\n",
              "      <td>0</td>\n",
              "      <td>-1</td>\n",
              "      <td>0.695049</td>\n",
              "      <td>0.784493</td>\n",
              "      <td>0.814725</td>\n",
              "      <td>0.801880</td>\n",
              "      <td>0.0</td>\n",
              "      <td>-1.0</td>\n",
              "      <td>Defacement</td>\n",
              "    </tr>\n",
              "    <tr>\n",
              "      <th>3</th>\n",
              "      <td>0</td>\n",
              "      <td>4</td>\n",
              "      <td>12</td>\n",
              "      <td>5.5</td>\n",
              "      <td>14</td>\n",
              "      <td>5.500000</td>\n",
              "      <td>4</td>\n",
              "      <td>32</td>\n",
              "      <td>16</td>\n",
              "      <td>0</td>\n",
              "      <td>...</td>\n",
              "      <td>0</td>\n",
              "      <td>0</td>\n",
              "      <td>-1</td>\n",
              "      <td>0.640130</td>\n",
              "      <td>0.784493</td>\n",
              "      <td>0.814725</td>\n",
              "      <td>0.663210</td>\n",
              "      <td>0.0</td>\n",
              "      <td>-1.0</td>\n",
              "      <td>Defacement</td>\n",
              "    </tr>\n",
              "    <tr>\n",
              "      <th>4</th>\n",
              "      <td>0</td>\n",
              "      <td>4</td>\n",
              "      <td>6</td>\n",
              "      <td>5.5</td>\n",
              "      <td>14</td>\n",
              "      <td>7.333334</td>\n",
              "      <td>4</td>\n",
              "      <td>18</td>\n",
              "      <td>11</td>\n",
              "      <td>0</td>\n",
              "      <td>...</td>\n",
              "      <td>0</td>\n",
              "      <td>0</td>\n",
              "      <td>-1</td>\n",
              "      <td>0.681307</td>\n",
              "      <td>0.784493</td>\n",
              "      <td>0.814725</td>\n",
              "      <td>0.804526</td>\n",
              "      <td>0.0</td>\n",
              "      <td>-1.0</td>\n",
              "      <td>Defacement</td>\n",
              "    </tr>\n",
              "    <tr>\n",
              "      <th>5</th>\n",
              "      <td>0</td>\n",
              "      <td>4</td>\n",
              "      <td>8</td>\n",
              "      <td>5.5</td>\n",
              "      <td>14</td>\n",
              "      <td>6.500000</td>\n",
              "      <td>4</td>\n",
              "      <td>22</td>\n",
              "      <td>10</td>\n",
              "      <td>0</td>\n",
              "      <td>...</td>\n",
              "      <td>0</td>\n",
              "      <td>0</td>\n",
              "      <td>-1</td>\n",
              "      <td>0.666676</td>\n",
              "      <td>0.784493</td>\n",
              "      <td>0.814725</td>\n",
              "      <td>0.755658</td>\n",
              "      <td>0.0</td>\n",
              "      <td>-1.0</td>\n",
              "      <td>Defacement</td>\n",
              "    </tr>\n",
              "    <tr>\n",
              "      <th>6</th>\n",
              "      <td>0</td>\n",
              "      <td>4</td>\n",
              "      <td>5</td>\n",
              "      <td>5.5</td>\n",
              "      <td>14</td>\n",
              "      <td>7.800000</td>\n",
              "      <td>4</td>\n",
              "      <td>17</td>\n",
              "      <td>10</td>\n",
              "      <td>0</td>\n",
              "      <td>...</td>\n",
              "      <td>0</td>\n",
              "      <td>0</td>\n",
              "      <td>-1</td>\n",
              "      <td>0.682440</td>\n",
              "      <td>0.784493</td>\n",
              "      <td>0.814725</td>\n",
              "      <td>0.766719</td>\n",
              "      <td>0.0</td>\n",
              "      <td>-1.0</td>\n",
              "      <td>Defacement</td>\n",
              "    </tr>\n",
              "    <tr>\n",
              "      <th>7</th>\n",
              "      <td>0</td>\n",
              "      <td>4</td>\n",
              "      <td>7</td>\n",
              "      <td>5.5</td>\n",
              "      <td>14</td>\n",
              "      <td>6.285714</td>\n",
              "      <td>4</td>\n",
              "      <td>16</td>\n",
              "      <td>9</td>\n",
              "      <td>0</td>\n",
              "      <td>...</td>\n",
              "      <td>0</td>\n",
              "      <td>0</td>\n",
              "      <td>-1</td>\n",
              "      <td>0.709396</td>\n",
              "      <td>0.784493</td>\n",
              "      <td>0.814725</td>\n",
              "      <td>0.797498</td>\n",
              "      <td>0.0</td>\n",
              "      <td>-1.0</td>\n",
              "      <td>Defacement</td>\n",
              "    </tr>\n",
              "    <tr>\n",
              "      <th>8</th>\n",
              "      <td>0</td>\n",
              "      <td>4</td>\n",
              "      <td>6</td>\n",
              "      <td>5.5</td>\n",
              "      <td>14</td>\n",
              "      <td>6.500000</td>\n",
              "      <td>4</td>\n",
              "      <td>16</td>\n",
              "      <td>10</td>\n",
              "      <td>0</td>\n",
              "      <td>...</td>\n",
              "      <td>0</td>\n",
              "      <td>0</td>\n",
              "      <td>-1</td>\n",
              "      <td>0.678242</td>\n",
              "      <td>0.784493</td>\n",
              "      <td>0.814725</td>\n",
              "      <td>0.732258</td>\n",
              "      <td>0.0</td>\n",
              "      <td>-1.0</td>\n",
              "      <td>Defacement</td>\n",
              "    </tr>\n",
              "    <tr>\n",
              "      <th>9</th>\n",
              "      <td>0</td>\n",
              "      <td>4</td>\n",
              "      <td>5</td>\n",
              "      <td>5.5</td>\n",
              "      <td>14</td>\n",
              "      <td>3.600000</td>\n",
              "      <td>4</td>\n",
              "      <td>7</td>\n",
              "      <td>3</td>\n",
              "      <td>0</td>\n",
              "      <td>...</td>\n",
              "      <td>1</td>\n",
              "      <td>0</td>\n",
              "      <td>-1</td>\n",
              "      <td>0.740950</td>\n",
              "      <td>0.784493</td>\n",
              "      <td>0.894886</td>\n",
              "      <td>0.894886</td>\n",
              "      <td>NaN</td>\n",
              "      <td>-1.0</td>\n",
              "      <td>Defacement</td>\n",
              "    </tr>\n",
              "  </tbody>\n",
              "</table>\n",
              "<p>10 rows × 80 columns</p>\n",
              "</div>\n",
              "      <button class=\"colab-df-convert\" onclick=\"convertToInteractive('df-a8307757-cfef-4679-be8c-5df3a5f69be7')\"\n",
              "              title=\"Convert this dataframe to an interactive table.\"\n",
              "              style=\"display:none;\">\n",
              "        \n",
              "  <svg xmlns=\"http://www.w3.org/2000/svg\" height=\"24px\"viewBox=\"0 0 24 24\"\n",
              "       width=\"24px\">\n",
              "    <path d=\"M0 0h24v24H0V0z\" fill=\"none\"/>\n",
              "    <path d=\"M18.56 5.44l.94 2.06.94-2.06 2.06-.94-2.06-.94-.94-2.06-.94 2.06-2.06.94zm-11 1L8.5 8.5l.94-2.06 2.06-.94-2.06-.94L8.5 2.5l-.94 2.06-2.06.94zm10 10l.94 2.06.94-2.06 2.06-.94-2.06-.94-.94-2.06-.94 2.06-2.06.94z\"/><path d=\"M17.41 7.96l-1.37-1.37c-.4-.4-.92-.59-1.43-.59-.52 0-1.04.2-1.43.59L10.3 9.45l-7.72 7.72c-.78.78-.78 2.05 0 2.83L4 21.41c.39.39.9.59 1.41.59.51 0 1.02-.2 1.41-.59l7.78-7.78 2.81-2.81c.8-.78.8-2.07 0-2.86zM5.41 20L4 18.59l7.72-7.72 1.47 1.35L5.41 20z\"/>\n",
              "  </svg>\n",
              "      </button>\n",
              "      \n",
              "  <style>\n",
              "    .colab-df-container {\n",
              "      display:flex;\n",
              "      flex-wrap:wrap;\n",
              "      gap: 12px;\n",
              "    }\n",
              "\n",
              "    .colab-df-convert {\n",
              "      background-color: #E8F0FE;\n",
              "      border: none;\n",
              "      border-radius: 50%;\n",
              "      cursor: pointer;\n",
              "      display: none;\n",
              "      fill: #1967D2;\n",
              "      height: 32px;\n",
              "      padding: 0 0 0 0;\n",
              "      width: 32px;\n",
              "    }\n",
              "\n",
              "    .colab-df-convert:hover {\n",
              "      background-color: #E2EBFA;\n",
              "      box-shadow: 0px 1px 2px rgba(60, 64, 67, 0.3), 0px 1px 3px 1px rgba(60, 64, 67, 0.15);\n",
              "      fill: #174EA6;\n",
              "    }\n",
              "\n",
              "    [theme=dark] .colab-df-convert {\n",
              "      background-color: #3B4455;\n",
              "      fill: #D2E3FC;\n",
              "    }\n",
              "\n",
              "    [theme=dark] .colab-df-convert:hover {\n",
              "      background-color: #434B5C;\n",
              "      box-shadow: 0px 1px 3px 1px rgba(0, 0, 0, 0.15);\n",
              "      filter: drop-shadow(0px 1px 2px rgba(0, 0, 0, 0.3));\n",
              "      fill: #FFFFFF;\n",
              "    }\n",
              "  </style>\n",
              "\n",
              "      <script>\n",
              "        const buttonEl =\n",
              "          document.querySelector('#df-a8307757-cfef-4679-be8c-5df3a5f69be7 button.colab-df-convert');\n",
              "        buttonEl.style.display =\n",
              "          google.colab.kernel.accessAllowed ? 'block' : 'none';\n",
              "\n",
              "        async function convertToInteractive(key) {\n",
              "          const element = document.querySelector('#df-a8307757-cfef-4679-be8c-5df3a5f69be7');\n",
              "          const dataTable =\n",
              "            await google.colab.kernel.invokeFunction('convertToInteractive',\n",
              "                                                     [key], {});\n",
              "          if (!dataTable) return;\n",
              "\n",
              "          const docLinkHtml = 'Like what you see? Visit the ' +\n",
              "            '<a target=\"_blank\" href=https://colab.research.google.com/notebooks/data_table.ipynb>data table notebook</a>'\n",
              "            + ' to learn more about interactive tables.';\n",
              "          element.innerHTML = '';\n",
              "          dataTable['output_type'] = 'display_data';\n",
              "          await google.colab.output.renderOutput(dataTable, element);\n",
              "          const docLink = document.createElement('div');\n",
              "          docLink.innerHTML = docLinkHtml;\n",
              "          element.appendChild(docLink);\n",
              "        }\n",
              "      </script>\n",
              "    </div>\n",
              "  </div>\n",
              "  "
            ]
          },
          "metadata": {},
          "execution_count": 5
        }
      ]
    },
    {
      "cell_type": "code",
      "execution_count": null,
      "metadata": {
        "id": "TIe8kANE6Bus"
      },
      "outputs": [],
      "source": [
        "def loadData(csvFile):\n",
        "    pickleDump = '{}DroppedNaNCols.pickle'.format(csvFile)\n",
        "    if os.path.exists(pickleDump):\n",
        "        df = pd.read_pickle(pickleDump)\n",
        "    else:\n",
        "        df = pd.read_csv(csvFile, low_memory=False)\n",
        "        # clean data\n",
        "        # strip the whitspaces from column names\n",
        "        df = df.rename(str.strip, axis='columns')\n",
        "        # drop Infinity rows and NaN string from each column\n",
        "        for col in df.columns:\n",
        "            indexNames = df[df[col] == 'Infinity'].index\n",
        "            if not indexNames.empty:\n",
        "                print('deleting {} rows with Infinity in column {}'.format(len(indexNames), col))\n",
        "                df.drop(indexNames, inplace=True)\n",
        "            \n",
        "        df.argPathRatio = df['argPathRatio'].astype('float')\n",
        "        # drop all columns with NaN values\n",
        "        beforeColumns = df.shape[1]\n",
        "        df.dropna(axis='columns', inplace=True)\n",
        "        print('Dropped {} columns with NaN values'.format(beforeColumns - df.shape[1]))\n",
        "        # drop all rows with NaN values\n",
        "        beforeRows = df.shape[0]\n",
        "        df.dropna(inplace=True)\n",
        "        print('Dropped {} rows with NaN values'.format(beforeRows - df.shape[0]))\n",
        "        df.to_pickle(pickleDump)\n",
        "        \n",
        "    return df"
      ]
    },
    {
      "cell_type": "code",
      "execution_count": null,
      "metadata": {
        "id": "R9y0spCM6Buv",
        "outputId": "d720afcc-9019-4e52-88d0-245142628f86"
      },
      "outputs": [
        {
          "name": "stderr",
          "output_type": "stream",
          "text": [
            "/Users/rbasnet/miniconda3/lib/python3.7/site-packages/pandas/core/ops.py:1649: FutureWarning: elementwise comparison failed; returning scalar instead, but in the future will perform elementwise comparison\n",
            "  result = method(y)\n"
          ]
        },
        {
          "name": "stdout",
          "output_type": "stream",
          "text": [
            "deleting 10 rows with Infinity in column argPathRatio\n",
            "Dropped 7 columns with NaN values\n",
            "Dropped 0 rows with NaN values\n"
          ]
        }
      ],
      "source": [
        "df = loadData('FinalDataset/All.csv')"
      ]
    },
    {
      "cell_type": "code",
      "execution_count": null,
      "metadata": {
        "id": "BHB4Vxer6Buw",
        "outputId": "e01f0ce9-1d69-49c7-c589-bf5a6e9c8502"
      },
      "outputs": [
        {
          "data": {
            "text/plain": [
              "(36697, 73)"
            ]
          },
          "execution_count": 50,
          "metadata": {},
          "output_type": "execute_result"
        }
      ],
      "source": [
        "# let's check the shape again\n",
        "df.shape"
      ]
    },
    {
      "cell_type": "code",
      "execution_count": null,
      "metadata": {
        "id": "kzjgP7wV6Bux",
        "outputId": "ed1305fc-6f64-465d-ce87-aa124a3ddbbc"
      },
      "outputs": [
        {
          "name": "stdout",
          "output_type": "stream",
          "text": [
            "URL_Type_obf_Type\n",
            "Defacement    7930\n",
            "benign        7781\n",
            "malware       6711\n",
            "phishing      7577\n",
            "spam          6698\n",
            "dtype: int64\n"
          ]
        }
      ],
      "source": [
        "# class distribution for original data\n",
        "label = 'URL_Type_obf_Type'\n",
        "print(df.groupby(label).size())"
      ]
    },
    {
      "cell_type": "markdown",
      "metadata": {
        "id": "83EvcLqe6Bux"
      },
      "source": [
        "## Experimenting with FinalDataset/All.csv\n",
        "\n",
        "## Multi-class classification"
      ]
    },
    {
      "cell_type": "markdown",
      "metadata": {
        "id": "ZHj1Hdlh6Buy"
      },
      "source": [
        "## Total samples for each class"
      ]
    },
    {
      "cell_type": "code",
      "execution_count": null,
      "metadata": {
        "id": "GEzScQUE6Buz"
      },
      "outputs": [],
      "source": [
        "dataPath = 'FinalDataset'\n",
        "dep_var = label\n",
        "cat_names = []\n",
        "cont_names = list(set(df.columns) - set(cat_names) - set([dep_var]))"
      ]
    },
    {
      "cell_type": "code",
      "execution_count": null,
      "metadata": {
        "id": "wq3XqdIr6Bu0",
        "outputId": "1a5965fe-303f-464f-b9d1-6f454568fdb5"
      },
      "outputs": [
        {
          "data": {
            "text/plain": [
              "['File_name_DigitCount',\n",
              " 'ldl_getArg',\n",
              " 'isPortEighty',\n",
              " 'URL_DigitCount',\n",
              " 'SymbolCount_Afterpath',\n",
              " 'avgdomaintokenlen',\n",
              " 'dld_url',\n",
              " 'tld',\n",
              " 'charcompvowels',\n",
              " 'ldl_filename',\n",
              " 'pathDomainRatio',\n",
              " 'Path_LongestWordLength',\n",
              " 'SymbolCount_FileName',\n",
              " 'executable',\n",
              " 'delimeter_path',\n",
              " 'Entropy_URL',\n",
              " 'LongestPathTokenLength',\n",
              " 'ldl_path',\n",
              " 'NumberRate_URL',\n",
              " 'Querylength',\n",
              " 'ldl_domain',\n",
              " 'SymbolCount_Extension',\n",
              " 'host_DigitCount',\n",
              " 'ArgLen',\n",
              " 'domain_token_count',\n",
              " 'Query_LetterCount',\n",
              " 'SymbolCount_URL',\n",
              " 'Directory_LetterCount',\n",
              " 'dld_domain',\n",
              " 'Domain_LongestWordLength',\n",
              " 'Query_DigitCount',\n",
              " 'SymbolCount_Directoryname',\n",
              " 'ArgUrlRatio',\n",
              " 'path_token_count',\n",
              " 'Filename_LetterCount',\n",
              " 'Extension_DigitCount',\n",
              " 'Directory_DigitCount',\n",
              " 'host_letter_count',\n",
              " 'ISIpAddressInDomainName',\n",
              " 'spcharUrl',\n",
              " 'NumberRate_FileName',\n",
              " 'URL_sensitiveWord',\n",
              " 'SymbolCount_Domain',\n",
              " 'URL_Letter_Count',\n",
              " 'domainlength',\n",
              " 'sub-Directory_LongestWordLength',\n",
              " 'subDirLen',\n",
              " 'Extension_LetterCount',\n",
              " 'pathurlRatio',\n",
              " 'dld_getArg',\n",
              " 'Entropy_Domain',\n",
              " 'NumberRate_Domain',\n",
              " 'domainUrlRatio',\n",
              " 'URLQueries_variable',\n",
              " 'NumberofDotsinURL',\n",
              " 'urlLen',\n",
              " 'fileNameLen',\n",
              " 'delimeter_Domain',\n",
              " 'longdomaintokenlen',\n",
              " 'pathLength',\n",
              " 'CharacterContinuityRate',\n",
              " 'NumberRate_DirectoryName',\n",
              " 'LongestVariableValue',\n",
              " 'delimeter_Count',\n",
              " 'dld_filename',\n",
              " 'ldl_url',\n",
              " 'dld_path',\n",
              " 'this.fileExtLen',\n",
              " 'Arguments_LongestWordLength',\n",
              " 'argDomanRatio',\n",
              " 'argPathRatio',\n",
              " 'charcompace']"
            ]
          },
          "execution_count": 54,
          "metadata": {},
          "output_type": "execute_result"
        }
      ],
      "source": [
        "cont_names"
      ]
    },
    {
      "cell_type": "code",
      "execution_count": null,
      "metadata": {
        "id": "v4M72Gok6Bu1",
        "outputId": "a4633be1-48a7-45f3-c848-c587da5ff8ed"
      },
      "outputs": [
        {
          "name": "stdout",
          "output_type": "stream",
          "text": [
            "StratifiedShuffleSplit(n_splits=1, random_state=0, test_size=0.2,\n",
            "            train_size=None)\n"
          ]
        }
      ],
      "source": [
        "procs = [FillMissing, Categorify, Normalize]\n",
        "sss = StratifiedShuffleSplit(n_splits = 1, test_size=0.2, random_state=0)\n",
        "print(sss)"
      ]
    },
    {
      "cell_type": "code",
      "execution_count": null,
      "metadata": {
        "id": "WQmyH0_p6Bu2",
        "outputId": "354f577c-7bea-4012-d522-ce66e64a9464"
      },
      "outputs": [
        {
          "data": {
            "text/html": [
              "<table border=\"1\" class=\"dataframe\">\n",
              "  <thead>\n",
              "    <tr style=\"text-align: left;\">\n",
              "      <th>epoch</th>\n",
              "      <th>train_loss</th>\n",
              "      <th>valid_loss</th>\n",
              "      <th>accuracy</th>\n",
              "      <th>time</th>\n",
              "    </tr>\n",
              "  </thead>\n",
              "  <tbody>\n",
              "    <tr>\n",
              "      <td>0</td>\n",
              "      <td>0.496093</td>\n",
              "      <td>0.404781</td>\n",
              "      <td>0.869346</td>\n",
              "      <td>00:04</td>\n",
              "    </tr>\n",
              "    <tr>\n",
              "      <td>1</td>\n",
              "      <td>0.367947</td>\n",
              "      <td>0.296003</td>\n",
              "      <td>0.900817</td>\n",
              "      <td>00:05</td>\n",
              "    </tr>\n",
              "    <tr>\n",
              "      <td>2</td>\n",
              "      <td>0.304806</td>\n",
              "      <td>0.223406</td>\n",
              "      <td>0.923706</td>\n",
              "      <td>00:04</td>\n",
              "    </tr>\n",
              "    <tr>\n",
              "      <td>3</td>\n",
              "      <td>0.242806</td>\n",
              "      <td>0.188083</td>\n",
              "      <td>0.938147</td>\n",
              "      <td>00:04</td>\n",
              "    </tr>\n",
              "    <tr>\n",
              "      <td>4</td>\n",
              "      <td>0.215125</td>\n",
              "      <td>0.162269</td>\n",
              "      <td>0.946594</td>\n",
              "      <td>00:04</td>\n",
              "    </tr>\n",
              "    <tr>\n",
              "      <td>5</td>\n",
              "      <td>0.161818</td>\n",
              "      <td>0.130698</td>\n",
              "      <td>0.956540</td>\n",
              "      <td>00:04</td>\n",
              "    </tr>\n",
              "    <tr>\n",
              "      <td>6</td>\n",
              "      <td>0.136994</td>\n",
              "      <td>0.118759</td>\n",
              "      <td>0.961444</td>\n",
              "      <td>00:04</td>\n",
              "    </tr>\n",
              "    <tr>\n",
              "      <td>7</td>\n",
              "      <td>0.117493</td>\n",
              "      <td>0.099290</td>\n",
              "      <td>0.967984</td>\n",
              "      <td>00:04</td>\n",
              "    </tr>\n",
              "    <tr>\n",
              "      <td>8</td>\n",
              "      <td>0.104364</td>\n",
              "      <td>0.097332</td>\n",
              "      <td>0.971253</td>\n",
              "      <td>00:05</td>\n",
              "    </tr>\n",
              "    <tr>\n",
              "      <td>9</td>\n",
              "      <td>0.094373</td>\n",
              "      <td>0.100019</td>\n",
              "      <td>0.972207</td>\n",
              "      <td>00:05</td>\n",
              "    </tr>\n",
              "  </tbody>\n",
              "</table>"
            ],
            "text/plain": [
              "<IPython.core.display.HTML object>"
            ]
          },
          "metadata": {},
          "output_type": "display_data"
        },
        {
          "data": {
            "image/png": "[encoded data removed]",
            "text/plain": [
              "<Figure size 432x288 with 1 Axes>"
            ]
          },
          "metadata": {},
          "output_type": "display_data"
        }
      ],
      "source": [
        "for train_idx, test_idx in sss.split(df.index, df[dep_var]):\n",
        "    data_fold = (TabularList.from_df(df, path=dataPath, cat_names=cat_names, cont_names=cont_names, procs=procs)\n",
        "                     .split_by_idxs(train_idx, test_idx)\n",
        "                     .label_from_df(cols=dep_var)\n",
        "                     .databunch())\n",
        "    # create model and learn\n",
        "    model = tabular_learner(data_fold, layers=[200, 100], metrics=accuracy, callback_fns=ShowGraph)\n",
        "    model.fit_one_cycle(cyc_len=10) #"
      ]
    },
    {
      "cell_type": "code",
      "execution_count": null,
      "metadata": {
        "id": "d4xotMNF6Bu4"
      },
      "outputs": [],
      "source": [
        "model.save('{}.model'.format(os.path.basename(dataPath)))"
      ]
    },
    {
      "cell_type": "code",
      "execution_count": null,
      "metadata": {
        "id": "icT_xXN06Bu4",
        "outputId": "25970b49-420f-4efe-c2c6-2fbfda1a63e9"
      },
      "outputs": [
        {
          "name": "stdout",
          "output_type": "stream",
          "text": [
            "loss 0.10001929849386215: accuracy: 97.22%\n"
          ]
        }
      ],
      "source": [
        "loss, acc = model.validate()\n",
        "print('loss {}: accuracy: {:.2f}%'.format(loss, acc*100))"
      ]
    },
    {
      "cell_type": "code",
      "execution_count": null,
      "metadata": {
        "id": "tcN7bW_K6Bu5"
      },
      "outputs": [],
      "source": [
        "preds, y, losses = model.get_preds(with_loss=True)\n",
        "interp = ClassificationInterpretation(model, preds, y, losses)"
      ]
    },
    {
      "cell_type": "code",
      "execution_count": null,
      "metadata": {
        "id": "5jkk9zAh6Bu5",
        "outputId": "d379c4e2-1d6b-4d97-d31d-5c9d50c20312"
      },
      "outputs": [
        {
          "data": {
            "image/png": "[encoded data removed]",
            "text/plain": [
              "<Figure size 432x288 with 1 Axes>"
            ]
          },
          "metadata": {
            "needs_background": "light"
          },
          "output_type": "display_data"
        }
      ],
      "source": [
        "interp.plot_confusion_matrix(slice_size=10)"
      ]
    },
    {
      "cell_type": "code",
      "execution_count": null,
      "metadata": {
        "id": "1j4sXYb46Bu5",
        "outputId": "4e8052c0-9498-4f2f-9236-9951175690e6"
      },
      "outputs": [
        {
          "name": "stdout",
          "output_type": "stream",
          "text": [
            "[[1562    5    2   17    0]\n",
            " [   2 1524   16   12    2]\n",
            " [   2    5 1322   13    0]\n",
            " [  43   29   27 1408    9]\n",
            " [   6    2    0   12 1320]]\n"
          ]
        }
      ],
      "source": [
        "print(interp.confusion_matrix())"
      ]
    },
    {
      "cell_type": "code",
      "execution_count": null,
      "metadata": {
        "id": "7xepl10A6Bu6",
        "outputId": "8b6d4d50-f8c9-4747-f52a-111fac64b057"
      },
      "outputs": [
        {
          "data": {
            "text/plain": [
              "[('phishing', 'Defacement', 43),\n",
              " ('phishing', 'benign', 29),\n",
              " ('phishing', 'malware', 27),\n",
              " ('Defacement', 'phishing', 17),\n",
              " ('benign', 'malware', 16),\n",
              " ('malware', 'phishing', 13),\n",
              " ('benign', 'phishing', 12),\n",
              " ('spam', 'phishing', 12),\n",
              " ('phishing', 'spam', 9),\n",
              " ('spam', 'Defacement', 6),\n",
              " ('Defacement', 'benign', 5),\n",
              " ('malware', 'benign', 5),\n",
              " ('Defacement', 'malware', 2),\n",
              " ('benign', 'Defacement', 2),\n",
              " ('benign', 'spam', 2),\n",
              " ('malware', 'Defacement', 2),\n",
              " ('spam', 'benign', 2)]"
            ]
          },
          "execution_count": 62,
          "metadata": {},
          "output_type": "execute_result"
        }
      ],
      "source": [
        "interp.most_confused()"
      ]
    },
    {
      "cell_type": "markdown",
      "metadata": {
        "id": "GycmoWp86Bu6"
      },
      "source": [
        "## Binary-class classification\n",
        "- Relabel spam, phishing, defacement, malware as 'malicious'\n",
        "- Keep benign type as benign"
      ]
    },
    {
      "cell_type": "code",
      "execution_count": null,
      "metadata": {
        "id": "QfNtQo0i6Bu7",
        "outputId": "a903977e-1728-4d58-ee82-7b25a978a9b1"
      },
      "outputs": [
        {
          "data": {
            "text/plain": [
              "['malware', 'spam', 'benign', 'phishing', 'Defacement']"
            ]
          },
          "execution_count": 63,
          "metadata": {},
          "output_type": "execute_result"
        }
      ],
      "source": [
        "lblTypes = list(lblTypes)\n",
        "lblTypes"
      ]
    },
    {
      "cell_type": "code",
      "execution_count": null,
      "metadata": {
        "id": "vEp5WoDk6Bu7",
        "outputId": "ce46602c-24bf-4559-c891-4ad81ca22695"
      },
      "outputs": [
        {
          "data": {
            "text/plain": [
              "{'malware': 'malicious',\n",
              " 'spam': 'malicious',\n",
              " 'benign': 'benign',\n",
              " 'phishing': 'malicious',\n",
              " 'Defacement': 'malicious'}"
            ]
          },
          "execution_count": 64,
          "metadata": {},
          "output_type": "execute_result"
        }
      ],
      "source": [
        "lblTypes = dict(zip(lblTypes, ['malicious']*5))\n",
        "lblTypes['benign'] = 'benign'\n",
        "lblTypes"
      ]
    },
    {
      "cell_type": "code",
      "execution_count": null,
      "metadata": {
        "id": "_lkljTW_6Bu7"
      },
      "outputs": [],
      "source": [
        "df[label] = df[label].map(lblTypes)"
      ]
    },
    {
      "cell_type": "code",
      "execution_count": null,
      "metadata": {
        "id": "__yBzYmO6Bu7",
        "outputId": "e3168cc0-cb06-458f-b8a9-a60de34c6a95"
      },
      "outputs": [
        {
          "data": {
            "text/html": [
              "<table border=\"1\" class=\"dataframe\">\n",
              "  <thead>\n",
              "    <tr style=\"text-align: left;\">\n",
              "      <th>epoch</th>\n",
              "      <th>train_loss</th>\n",
              "      <th>valid_loss</th>\n",
              "      <th>accuracy</th>\n",
              "      <th>time</th>\n",
              "    </tr>\n",
              "  </thead>\n",
              "  <tbody>\n",
              "    <tr>\n",
              "      <td>0</td>\n",
              "      <td>0.156220</td>\n",
              "      <td>0.117772</td>\n",
              "      <td>0.961035</td>\n",
              "      <td>00:04</td>\n",
              "    </tr>\n",
              "    <tr>\n",
              "      <td>1</td>\n",
              "      <td>0.111679</td>\n",
              "      <td>0.103802</td>\n",
              "      <td>0.958038</td>\n",
              "      <td>00:05</td>\n",
              "    </tr>\n",
              "    <tr>\n",
              "      <td>2</td>\n",
              "      <td>0.103441</td>\n",
              "      <td>0.080355</td>\n",
              "      <td>0.972207</td>\n",
              "      <td>00:04</td>\n",
              "    </tr>\n",
              "    <tr>\n",
              "      <td>3</td>\n",
              "      <td>0.084155</td>\n",
              "      <td>0.062802</td>\n",
              "      <td>0.977929</td>\n",
              "      <td>00:04</td>\n",
              "    </tr>\n",
              "    <tr>\n",
              "      <td>4</td>\n",
              "      <td>0.073698</td>\n",
              "      <td>0.063454</td>\n",
              "      <td>0.977384</td>\n",
              "      <td>00:04</td>\n",
              "    </tr>\n",
              "    <tr>\n",
              "      <td>5</td>\n",
              "      <td>0.066614</td>\n",
              "      <td>0.047918</td>\n",
              "      <td>0.983243</td>\n",
              "      <td>00:04</td>\n",
              "    </tr>\n",
              "    <tr>\n",
              "      <td>6</td>\n",
              "      <td>0.045853</td>\n",
              "      <td>0.042428</td>\n",
              "      <td>0.985831</td>\n",
              "      <td>00:04</td>\n",
              "    </tr>\n",
              "    <tr>\n",
              "      <td>7</td>\n",
              "      <td>0.042064</td>\n",
              "      <td>0.038307</td>\n",
              "      <td>0.987330</td>\n",
              "      <td>00:04</td>\n",
              "    </tr>\n",
              "    <tr>\n",
              "      <td>8</td>\n",
              "      <td>0.028706</td>\n",
              "      <td>0.036385</td>\n",
              "      <td>0.987466</td>\n",
              "      <td>00:04</td>\n",
              "    </tr>\n",
              "    <tr>\n",
              "      <td>9</td>\n",
              "      <td>0.032438</td>\n",
              "      <td>0.037092</td>\n",
              "      <td>0.987193</td>\n",
              "      <td>00:04</td>\n",
              "    </tr>\n",
              "  </tbody>\n",
              "</table>"
            ],
            "text/plain": [
              "<IPython.core.display.HTML object>"
            ]
          },
          "metadata": {},
          "output_type": "display_data"
        },
        {
          "data": {
            "image/png": "[encoded data removed]",
            "text/plain": [
              "<Figure size 432x288 with 1 Axes>"
            ]
          },
          "metadata": {},
          "output_type": "display_data"
        }
      ],
      "source": [
        "for train_idx, test_idx in sss.split(df.index, df[dep_var]):\n",
        "    data_fold = (TabularList.from_df(df, path=dataPath, cat_names=cat_names, cont_names=cont_names, procs=procs)\n",
        "                     .split_by_idxs(train_idx, test_idx)\n",
        "                     .label_from_df(cols=dep_var)\n",
        "                     .databunch())\n",
        "    # create model and learn\n",
        "    model = tabular_learner(data_fold, layers=[200, 100], metrics=accuracy, callback_fns=ShowGraph)\n",
        "    model.fit_one_cycle(cyc_len=10)"
      ]
    },
    {
      "cell_type": "code",
      "execution_count": null,
      "metadata": {
        "id": "TXToDCFP6Bu8",
        "outputId": "5fa61b7a-4ec3-40fd-bd6c-675a10359e4e"
      },
      "outputs": [
        {
          "name": "stdout",
          "output_type": "stream",
          "text": [
            "loss 0.03709198907017708: accuracy: 98.72%\n"
          ]
        }
      ],
      "source": [
        "loss, acc = model.validate()\n",
        "print('loss {}: accuracy: {:.2f}%'.format(loss, acc*100))"
      ]
    },
    {
      "cell_type": "code",
      "execution_count": null,
      "metadata": {
        "id": "jO6qbjKr6Bu8",
        "outputId": "e561b718-5312-4469-d7b9-2c5d5fb0ea25"
      },
      "outputs": [
        {
          "data": {
            "image/png": "[encoded data removed]",
            "text/plain": [
              "<Figure size 432x288 with 1 Axes>"
            ]
          },
          "metadata": {
            "needs_background": "light"
          },
          "output_type": "display_data"
        }
      ],
      "source": [
        "preds, y, losses = model.get_preds(with_loss=True)\n",
        "interp = ClassificationInterpretation(model, preds, y, losses)\n",
        "interp.plot_confusion_matrix(slice_size=10)"
      ]
    },
    {
      "cell_type": "code",
      "execution_count": null,
      "metadata": {
        "id": "AQ8Qpq5j6Bu8",
        "outputId": "003d2d3c-2960-40d4-82d6-cc028c9c027d"
      },
      "outputs": [
        {
          "data": {
            "text/plain": [
              "(36697, 80)"
            ]
          },
          "execution_count": 196,
          "metadata": {},
          "output_type": "execute_result"
        }
      ],
      "source": [
        "df1.shape"
      ]
    }
  ],
  "metadata": {
    "kernelspec": {
      "display_name": "Python 3",
      "language": "python",
      "name": "python3"
    },
    "language_info": {
      "codemirror_mode": {
        "name": "ipython",
        "version": 3
      },
      "file_extension": ".py",
      "mimetype": "text/x-python",
      "name": "python",
      "nbconvert_exporter": "python",
      "pygments_lexer": "ipython3",
      "version": "3.7.2"
    },
    "colab": {
      "name": "FastAI-Experiments.ipynb",
      "provenance": [],
      "collapsed_sections": [],
      "include_colab_link": true
    }
  },
  "nbformat": 4,
  "nbformat_minor": 0
}
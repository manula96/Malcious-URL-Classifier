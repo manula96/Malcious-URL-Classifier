{
  "cells": [
    {
      "cell_type": "markdown",
      "metadata": {
        "id": "view-in-github",
        "colab_type": "text"
      },
      "source": [
        "<a href=\"https://colab.research.google.com/github/manula96/Malcious-URL-Classifier/blob/main/Keras_Tensorflow_Experiments.ipynb\" target=\"_parent\"><img src=\"https://colab.research.google.com/assets/colab-badge.svg\" alt=\"Open In Colab\"/></a>"
      ]
    },
    {
      "cell_type": "markdown",
      "metadata": {
        "id": "SFAQJfeWplvv"
      },
      "source": [
        "# Keras-Tensorflow Experiments\n"
      ]
    },
    {
      "cell_type": "markdown",
      "metadata": {
        "id": "CQ6Ngesk0F9d"
      },
      "source": [
        "##### Sources:\n",
        " + https://www.tensorflow.org/tutorials/keras/overfit_and_underfit\n",
        " + https://www.kaggle.com/grafiszti/98-59-acc-on-10-fold-with-testing-7-keras-models\n",
        " + https://keras.io/visualization/\n",
        " + https://stats.stackexchange.com/questions/181/how-to-choose-the-number-of-hidden-layers-and-nodes-in-a-feedforward-neural-netw"
      ]
    },
    {
      "cell_type": "markdown",
      "metadata": {
        "id": "47GgPW0G0Pi7"
      },
      "source": [
        "## Initial Setup"
      ]
    },
    {
      "cell_type": "markdown",
      "metadata": {
        "id": "GbTWr3JeuzLm"
      },
      "source": [
        "### Include needed files. "
      ]
    },
    {
      "cell_type": "code",
      "execution_count": 1,
      "metadata": {
        "colab": {
          "base_uri": "https://localhost:8080/"
        },
        "id": "sBMU4MElu9GB",
        "outputId": "895d04fe-a95b-4bdb-9e93-d95263e16fa8"
      },
      "outputs": [
        {
          "output_type": "stream",
          "name": "stdout",
          "text": [
            "2.8.2\n"
          ]
        }
      ],
      "source": [
        "from __future__ import absolute_import, division, print_function, unicode_literals\n",
        "\n",
        "import shutil\n",
        "import numpy as np\n",
        "import pandas as pd\n",
        "import tensorflow as tf\n",
        "\n",
        "import csv\n",
        "import os\n",
        "import sys\n",
        "import glob\n",
        "import operator\n",
        "import time\n",
        "\n",
        "import seaborn as sn\n",
        "\n",
        "import matplotlib.pyplot as plt\n",
        "\n",
        "from keras.layers import Dense, Activation\n",
        "from keras.utils.np_utils import to_categorical, normalize\n",
        "\n",
        "from sklearn.model_selection import StratifiedKFold\n",
        "from sklearn.preprocessing import LabelEncoder, StandardScaler\n",
        "from sklearn.utils import shuffle\n",
        "from sklearn.metrics import confusion_matrix\n",
        "\n",
        "from tensorflow import keras\n",
        "from tensorflow.keras import layers\n",
        "from tensorflow.keras.models import Sequential, load_model\n",
        "from tensorflow.keras.layers import Dense, Activation, BatchNormalization, Dropout\n",
        "from tensorflow.keras.callbacks import TensorBoard\n",
        "\n",
        "print(tf.__version__)"
      ]
    },
    {
      "cell_type": "markdown",
      "metadata": {
        "id": "IeCm3LP08XOy"
      },
      "source": [
        "### Set some data\n",
        "> Some data needs to be set, we need to ensure that constants are set properly. These are important but will not be used until later."
      ]
    },
    {
      "cell_type": "code",
      "execution_count": 2,
      "metadata": {
        "id": "qJuZTgd0u_WG",
        "colab": {
          "base_uri": "https://localhost:8080/"
        },
        "outputId": "f38e31cd-5bcb-4608-8ecc-6c2f00ce4eab"
      },
      "outputs": [
        {
          "output_type": "stream",
          "name": "stdout",
          "text": [
            "result path results_keras_tensorflow created.\n"
          ]
        }
      ],
      "source": [
        "resultPath = 'results_keras_tensorflow'\n",
        "if not os.path.exists(resultPath):\n",
        "   print('result path {} created.'.format(resultPath))\n",
        "   os.mkdir(resultPath)"
      ]
    },
    {
      "cell_type": "code",
      "execution_count": 3,
      "metadata": {
        "id": "EHnzBhcavSR-"
      },
      "outputs": [],
      "source": [
        "model_name = \"init\""
      ]
    },
    {
      "cell_type": "markdown",
      "metadata": {
        "id": "6Vo0Cwne9wRJ"
      },
      "source": [
        "## Functions for Testing\n",
        "> Now that our data has been collected it is time to create functions that will be used in later tests."
      ]
    },
    {
      "cell_type": "code",
      "execution_count": 4,
      "metadata": {
        "id": "DFtoJCs_7T8p"
      },
      "outputs": [],
      "source": [
        "def loadData(csvFile):\n",
        "    pickleDump = '{}.pickle'.format(csvFile)\n",
        "    if os.path.exists(pickleDump):\n",
        "        df = pd.read_pickle(pickleDump)\n",
        "    else:\n",
        "        df = pd.read_csv(csvFile, low_memory=False, na_values='NaN')\n",
        "        # clean data\n",
        "        # strip the whitspaces from column names\n",
        "        df = df.rename(str.strip, axis='columns')\n",
        "        #df.drop(columns=[], inplace=True)\n",
        "        # drop missing values/NaN etc.\n",
        "        #df.dropna(inplace=True)\n",
        "        # drop Infinity rows and NaN string from each column\n",
        "        for col in df.columns:\n",
        "            indexNames = df[df[col]=='Infinity'].index\n",
        "            if not indexNames.empty:\n",
        "                print('deleting {} rows with Infinity in column {}'.format(len(indexNames), col))\n",
        "                df.drop(indexNames, inplace=True)\n",
        "        \n",
        "        df.to_pickle(pickleDump)\n",
        "    \n",
        "    return df\n"
      ]
    },
    {
      "cell_type": "code",
      "execution_count": 5,
      "metadata": {
        "id": "GB51N0iLCK9J"
      },
      "outputs": [],
      "source": [
        "def baseline_model(inputDim=-1,outputDim=-1):\n",
        "    global model_extension, experimentTitle\n",
        "    model = tf.keras.Sequential([\n",
        "        Dense(128, activation='relu', input_shape=(inputDim,)),\n",
        "        BatchNormalization(),\n",
        "        Dropout(.5),\n",
        "        Dense(64, activation='relu'),\n",
        "        BatchNormalization(),\n",
        "        Dropout(.5),\n",
        "        Dense(outputDim, activation='softmax')\n",
        "    ]) #This is the output layer\n",
        "\n",
        "    if outputDim > 2:\n",
        "        print('Categorical Cross-Entropy Loss Function')\n",
        "        model_extension = \"_categorical\"\n",
        "        experimentTitle = \"Categorical\"\n",
        "        model.compile(optimizer='adam',\n",
        "                 loss='categorical_crossentropy',\n",
        "                 metrics=['accuracy'])\n",
        "    else:\n",
        "        print('Binary Cross-Entropy Loss Function')\n",
        "        model_extension = \"_binary\"\n",
        "        experimentTitle = \"Binary\"\n",
        "        model.compile(optimizer='adam',\n",
        "                loss='binary_crossentropy',\n",
        "                metrics=['accuracy'])\n",
        "\n",
        "    return model"
      ]
    },
    {
      "cell_type": "code",
      "execution_count": 6,
      "metadata": {
        "id": "zbiT-Sf9plwd"
      },
      "outputs": [],
      "source": [
        "def encode_labels(dataframe):\n",
        "    dataframe=dataframe.copy()\n",
        "    data_y=dataframe.pop(dep_var)\n",
        "    encoder = LabelEncoder()\n",
        "    encoder.fit(data_y)\n",
        "    data_y = encoder.transform(data_y)\n",
        "    dummy_y = to_categorical(data_y)\n",
        "    return dummy_y"
      ]
    },
    {
      "cell_type": "code",
      "execution_count": 7,
      "metadata": {
        "id": "3aQvhWPU1H8v"
      },
      "outputs": [],
      "source": [
        "def plotAccuracy(title):\n",
        "    plt.plot(history.history['acc'])\n",
        "    plt.plot(history.history['val_acc'])\n",
        "    plt.title(title)\n",
        "    plt.ylabel('Accuracy')\n",
        "    plt.xlabel('Epoch')\n",
        "    plt.legend(['Train', 'Test'], loc='upper left')\n",
        "    plt.show()"
      ]
    },
    {
      "cell_type": "code",
      "execution_count": 8,
      "metadata": {
        "id": "FCdjh6ZY--2M"
      },
      "outputs": [],
      "source": [
        "def plotLoss(title):\n",
        "    plt.plot(history.history['loss'])\n",
        "    plt.plot(history.history['val_loss'])\n",
        "    plt.title(title)\n",
        "    plt.ylabel('Loss')\n",
        "    plt.xlabel('Epoch')\n",
        "    plt.legend(['Train', 'Test'], loc='upper left')\n",
        "    plt.show()"
      ]
    },
    {
      "cell_type": "code",
      "execution_count": 9,
      "metadata": {
        "id": "nMkpqsxYmSSo"
      },
      "outputs": [],
      "source": [
        "def plot_Experiment(history,y):\n",
        "  hist = pd.DataFrame(history.history)\n",
        "  hist['epoch'] = history.epoch\n",
        "\n",
        "  plt.figure()\n",
        "  plt.xlabel('Epoch')\n",
        "  plt.ylabel('Error')\n",
        "  plt.plot(hist['epoch'], hist['loss'],\n",
        "           label='Train Error')\n",
        "  plt.plot(hist['epoch'], hist['val_loss'],\n",
        "           label = 'Val Error')\n",
        "  plt.ylim([0,y])\n",
        "  plt.legend()\n",
        "\n",
        "  plt.figure()\n",
        "  plt.xlabel('Epoch')\n",
        "  plt.ylabel('Error')\n",
        "  plt.plot(hist['epoch'], hist['loss'],\n",
        "           label='Train Error')\n",
        "  plt.plot(hist['epoch'], hist['val_loss'],\n",
        "           label = 'Val Error')\n",
        "  plt.ylim([0,y])\n",
        "  plt.legend()\n",
        "  plt.show()"
      ]
    },
    {
      "cell_type": "code",
      "execution_count": 10,
      "metadata": {
        "id": "U1bG2p566m8V"
      },
      "outputs": [],
      "source": [
        "# Function to determine train and validation indexes, \n",
        "# and fit the data to the model we constructed\n",
        "def experiment(dataframe, early=False):\n",
        "    \n",
        "    #10-fold cross validation, choosing random indices for training and validation\n",
        "    kfold = StratifiedKFold(n_splits=10, shuffle=True, random_state=seed)\n",
        "    \n",
        "    # Encode the label column for model fitting\n",
        "    encoded_y = dataframe.copy()\n",
        "    encoded_y = encode_labels(encoded_y)\n",
        "    \n",
        "    # X is our data/features to train the model with\n",
        "    X=StandardScaler().fit_transform(dataframe.drop(dep_var, axis=1))\n",
        "    \n",
        "    # Y is our labels to classify the data\n",
        "    y=LabelEncoder().fit_transform(dataframe[dep_var].values)\n",
        "    start_time = time.time()\n",
        "\n",
        "    for index, (train_indices, val_indices) in enumerate(kfold.split(X, y)):\n",
        "        \n",
        "        xtrain, xval = X[train_indices], X[val_indices]\n",
        "        ytrain, yval = encoded_y[train_indices], encoded_y[val_indices]\n",
        "\n",
        "        inputDim=xtrain.shape[1]\n",
        "        outputDim=ytrain.shape[1]\n",
        "        print(\"Running fold #\" + str(index+1))\n",
        "\n",
        "        model = baseline_model(inputDim,outputDim)\n",
        "        \n",
        "        time_gen = int(time.time())\n",
        "        \n",
        "        global model_name\n",
        "        model_name = f\"{dataFile}_{time_gen}\"\n",
        "\n",
        "        tensorboard = TensorBoard(log_dir='keras_tensorflow_logs/{}/{}_{}'.format(experimentTitle, model_name, model_extension),update_freq='epoch')\n",
        "        if early_stop:\n",
        "            callbacks = [tensorboard, early_stop]\n",
        "        else:\n",
        "            callbacks = [tensorboard]\n",
        "        history = model.fit(xtrain, ytrain, epochs=epochs, validation_data=(xval,yval), callbacks=callbacks, batch_size=batch_size, verbose=0)\n",
        "        \n",
        "    global end_time \n",
        "    end_time = time.time() - start_time\n",
        "    TimeSetup = str(datetime.timedelta(seconds=end_time))\n",
        "    Minutes = int(end_time/60)\n",
        "    print(\"Time to complete {} [hour:min:sec]\".format(TimeSetup)) \n",
        "        \n",
        "    return model, history, X, encoded_y, TimeSetup\n"
      ]
    },
    {
      "cell_type": "markdown",
      "metadata": {
        "id": "GkZ-uZuz9_pi"
      },
      "source": [
        "## Data\n",
        "### Load and Clean\n",
        "> First we will load our data, scan the columns for Infinity and NaN values, and remove those columns from testing. "
      ]
    },
    {
      "cell_type": "code",
      "source": [
        "#Mount gdrive\n",
        "from google.colab import drive\n",
        "drive.mount(\"/content/gdrive\")"
      ],
      "metadata": {
        "colab": {
          "base_uri": "https://localhost:8080/"
        },
        "id": "P34_xkxor67J",
        "outputId": "428623e6-d95c-4091-f7f2-b6a6c07379ee"
      },
      "execution_count": 11,
      "outputs": [
        {
          "output_type": "stream",
          "name": "stdout",
          "text": [
            "Mounted at /content/gdrive\n"
          ]
        }
      ]
    },
    {
      "cell_type": "code",
      "source": [
        "#Import the dataset asa Pandas data frame\n",
        "df = pd.read_csv('/content/gdrive/My Drive/Research_datasets/All.csv')\n",
        "df.head(10)"
      ],
      "metadata": {
        "colab": {
          "base_uri": "https://localhost:8080/",
          "height": 456
        },
        "id": "63pjErVotWKd",
        "outputId": "dd867e93-61fe-48b6-f01c-513a145d7be0"
      },
      "execution_count": 12,
      "outputs": [
        {
          "output_type": "execute_result",
          "data": {
            "text/plain": [
              "   Querylength  domain_token_count  path_token_count  avgdomaintokenlen  \\\n",
              "0            0                   4                 5                5.5   \n",
              "1            0                   4                 5                5.5   \n",
              "2            0                   4                 5                5.5   \n",
              "3            0                   4                12                5.5   \n",
              "4            0                   4                 6                5.5   \n",
              "5            0                   4                 8                5.5   \n",
              "6            0                   4                 5                5.5   \n",
              "7            0                   4                 7                5.5   \n",
              "8            0                   4                 6                5.5   \n",
              "9            0                   4                 5                5.5   \n",
              "\n",
              "   longdomaintokenlen  avgpathtokenlen  tld  charcompvowels  charcompace  \\\n",
              "0                  14         4.400000    4               8            3   \n",
              "1                  14         6.000000    4              12            4   \n",
              "2                  14         5.800000    4              12            5   \n",
              "3                  14         5.500000    4              32           16   \n",
              "4                  14         7.333334    4              18           11   \n",
              "5                  14         6.500000    4              22           10   \n",
              "6                  14         7.800000    4              17           10   \n",
              "7                  14         6.285714    4              16            9   \n",
              "8                  14         6.500000    4              16           10   \n",
              "9                  14         3.600000    4               7            3   \n",
              "\n",
              "   ldl_url  ...  SymbolCount_FileName  SymbolCount_Extension  \\\n",
              "0        0  ...                     1                      0   \n",
              "1        0  ...                     0                      0   \n",
              "2        0  ...                     0                      0   \n",
              "3        0  ...                     0                      0   \n",
              "4        0  ...                     0                      0   \n",
              "5        0  ...                     0                      0   \n",
              "6        0  ...                     0                      0   \n",
              "7        0  ...                     0                      0   \n",
              "8        0  ...                     0                      0   \n",
              "9        0  ...                     1                      0   \n",
              "\n",
              "   SymbolCount_Afterpath  Entropy_URL  Entropy_Domain  Entropy_DirectoryName  \\\n",
              "0                     -1     0.726298        0.784493               0.894886   \n",
              "1                     -1     0.688635        0.784493               0.814725   \n",
              "2                     -1     0.695049        0.784493               0.814725   \n",
              "3                     -1     0.640130        0.784493               0.814725   \n",
              "4                     -1     0.681307        0.784493               0.814725   \n",
              "5                     -1     0.666676        0.784493               0.814725   \n",
              "6                     -1     0.682440        0.784493               0.814725   \n",
              "7                     -1     0.709396        0.784493               0.814725   \n",
              "8                     -1     0.678242        0.784493               0.814725   \n",
              "9                     -1     0.740950        0.784493               0.894886   \n",
              "\n",
              "   Entropy_Filename  Entropy_Extension  Entropy_Afterpath  URL_Type_obf_Type  \n",
              "0          0.850608                NaN               -1.0         Defacement  \n",
              "1          0.859793                0.0               -1.0         Defacement  \n",
              "2          0.801880                0.0               -1.0         Defacement  \n",
              "3          0.663210                0.0               -1.0         Defacement  \n",
              "4          0.804526                0.0               -1.0         Defacement  \n",
              "5          0.755658                0.0               -1.0         Defacement  \n",
              "6          0.766719                0.0               -1.0         Defacement  \n",
              "7          0.797498                0.0               -1.0         Defacement  \n",
              "8          0.732258                0.0               -1.0         Defacement  \n",
              "9          0.894886                NaN               -1.0         Defacement  \n",
              "\n",
              "[10 rows x 80 columns]"
            ],
            "text/html": [
              "\n",
              "  <div id=\"df-3cf32603-147d-4ef1-8602-ead99a60a147\">\n",
              "    <div class=\"colab-df-container\">\n",
              "      <div>\n",
              "<style scoped>\n",
              "    .dataframe tbody tr th:only-of-type {\n",
              "        vertical-align: middle;\n",
              "    }\n",
              "\n",
              "    .dataframe tbody tr th {\n",
              "        vertical-align: top;\n",
              "    }\n",
              "\n",
              "    .dataframe thead th {\n",
              "        text-align: right;\n",
              "    }\n",
              "</style>\n",
              "<table border=\"1\" class=\"dataframe\">\n",
              "  <thead>\n",
              "    <tr style=\"text-align: right;\">\n",
              "      <th></th>\n",
              "      <th>Querylength</th>\n",
              "      <th>domain_token_count</th>\n",
              "      <th>path_token_count</th>\n",
              "      <th>avgdomaintokenlen</th>\n",
              "      <th>longdomaintokenlen</th>\n",
              "      <th>avgpathtokenlen</th>\n",
              "      <th>tld</th>\n",
              "      <th>charcompvowels</th>\n",
              "      <th>charcompace</th>\n",
              "      <th>ldl_url</th>\n",
              "      <th>...</th>\n",
              "      <th>SymbolCount_FileName</th>\n",
              "      <th>SymbolCount_Extension</th>\n",
              "      <th>SymbolCount_Afterpath</th>\n",
              "      <th>Entropy_URL</th>\n",
              "      <th>Entropy_Domain</th>\n",
              "      <th>Entropy_DirectoryName</th>\n",
              "      <th>Entropy_Filename</th>\n",
              "      <th>Entropy_Extension</th>\n",
              "      <th>Entropy_Afterpath</th>\n",
              "      <th>URL_Type_obf_Type</th>\n",
              "    </tr>\n",
              "  </thead>\n",
              "  <tbody>\n",
              "    <tr>\n",
              "      <th>0</th>\n",
              "      <td>0</td>\n",
              "      <td>4</td>\n",
              "      <td>5</td>\n",
              "      <td>5.5</td>\n",
              "      <td>14</td>\n",
              "      <td>4.400000</td>\n",
              "      <td>4</td>\n",
              "      <td>8</td>\n",
              "      <td>3</td>\n",
              "      <td>0</td>\n",
              "      <td>...</td>\n",
              "      <td>1</td>\n",
              "      <td>0</td>\n",
              "      <td>-1</td>\n",
              "      <td>0.726298</td>\n",
              "      <td>0.784493</td>\n",
              "      <td>0.894886</td>\n",
              "      <td>0.850608</td>\n",
              "      <td>NaN</td>\n",
              "      <td>-1.0</td>\n",
              "      <td>Defacement</td>\n",
              "    </tr>\n",
              "    <tr>\n",
              "      <th>1</th>\n",
              "      <td>0</td>\n",
              "      <td>4</td>\n",
              "      <td>5</td>\n",
              "      <td>5.5</td>\n",
              "      <td>14</td>\n",
              "      <td>6.000000</td>\n",
              "      <td>4</td>\n",
              "      <td>12</td>\n",
              "      <td>4</td>\n",
              "      <td>0</td>\n",
              "      <td>...</td>\n",
              "      <td>0</td>\n",
              "      <td>0</td>\n",
              "      <td>-1</td>\n",
              "      <td>0.688635</td>\n",
              "      <td>0.784493</td>\n",
              "      <td>0.814725</td>\n",
              "      <td>0.859793</td>\n",
              "      <td>0.0</td>\n",
              "      <td>-1.0</td>\n",
              "      <td>Defacement</td>\n",
              "    </tr>\n",
              "    <tr>\n",
              "      <th>2</th>\n",
              "      <td>0</td>\n",
              "      <td>4</td>\n",
              "      <td>5</td>\n",
              "      <td>5.5</td>\n",
              "      <td>14</td>\n",
              "      <td>5.800000</td>\n",
              "      <td>4</td>\n",
              "      <td>12</td>\n",
              "      <td>5</td>\n",
              "      <td>0</td>\n",
              "      <td>...</td>\n",
              "      <td>0</td>\n",
              "      <td>0</td>\n",
              "      <td>-1</td>\n",
              "      <td>0.695049</td>\n",
              "      <td>0.784493</td>\n",
              "      <td>0.814725</td>\n",
              "      <td>0.801880</td>\n",
              "      <td>0.0</td>\n",
              "      <td>-1.0</td>\n",
              "      <td>Defacement</td>\n",
              "    </tr>\n",
              "    <tr>\n",
              "      <th>3</th>\n",
              "      <td>0</td>\n",
              "      <td>4</td>\n",
              "      <td>12</td>\n",
              "      <td>5.5</td>\n",
              "      <td>14</td>\n",
              "      <td>5.500000</td>\n",
              "      <td>4</td>\n",
              "      <td>32</td>\n",
              "      <td>16</td>\n",
              "      <td>0</td>\n",
              "      <td>...</td>\n",
              "      <td>0</td>\n",
              "      <td>0</td>\n",
              "      <td>-1</td>\n",
              "      <td>0.640130</td>\n",
              "      <td>0.784493</td>\n",
              "      <td>0.814725</td>\n",
              "      <td>0.663210</td>\n",
              "      <td>0.0</td>\n",
              "      <td>-1.0</td>\n",
              "      <td>Defacement</td>\n",
              "    </tr>\n",
              "    <tr>\n",
              "      <th>4</th>\n",
              "      <td>0</td>\n",
              "      <td>4</td>\n",
              "      <td>6</td>\n",
              "      <td>5.5</td>\n",
              "      <td>14</td>\n",
              "      <td>7.333334</td>\n",
              "      <td>4</td>\n",
              "      <td>18</td>\n",
              "      <td>11</td>\n",
              "      <td>0</td>\n",
              "      <td>...</td>\n",
              "      <td>0</td>\n",
              "      <td>0</td>\n",
              "      <td>-1</td>\n",
              "      <td>0.681307</td>\n",
              "      <td>0.784493</td>\n",
              "      <td>0.814725</td>\n",
              "      <td>0.804526</td>\n",
              "      <td>0.0</td>\n",
              "      <td>-1.0</td>\n",
              "      <td>Defacement</td>\n",
              "    </tr>\n",
              "    <tr>\n",
              "      <th>5</th>\n",
              "      <td>0</td>\n",
              "      <td>4</td>\n",
              "      <td>8</td>\n",
              "      <td>5.5</td>\n",
              "      <td>14</td>\n",
              "      <td>6.500000</td>\n",
              "      <td>4</td>\n",
              "      <td>22</td>\n",
              "      <td>10</td>\n",
              "      <td>0</td>\n",
              "      <td>...</td>\n",
              "      <td>0</td>\n",
              "      <td>0</td>\n",
              "      <td>-1</td>\n",
              "      <td>0.666676</td>\n",
              "      <td>0.784493</td>\n",
              "      <td>0.814725</td>\n",
              "      <td>0.755658</td>\n",
              "      <td>0.0</td>\n",
              "      <td>-1.0</td>\n",
              "      <td>Defacement</td>\n",
              "    </tr>\n",
              "    <tr>\n",
              "      <th>6</th>\n",
              "      <td>0</td>\n",
              "      <td>4</td>\n",
              "      <td>5</td>\n",
              "      <td>5.5</td>\n",
              "      <td>14</td>\n",
              "      <td>7.800000</td>\n",
              "      <td>4</td>\n",
              "      <td>17</td>\n",
              "      <td>10</td>\n",
              "      <td>0</td>\n",
              "      <td>...</td>\n",
              "      <td>0</td>\n",
              "      <td>0</td>\n",
              "      <td>-1</td>\n",
              "      <td>0.682440</td>\n",
              "      <td>0.784493</td>\n",
              "      <td>0.814725</td>\n",
              "      <td>0.766719</td>\n",
              "      <td>0.0</td>\n",
              "      <td>-1.0</td>\n",
              "      <td>Defacement</td>\n",
              "    </tr>\n",
              "    <tr>\n",
              "      <th>7</th>\n",
              "      <td>0</td>\n",
              "      <td>4</td>\n",
              "      <td>7</td>\n",
              "      <td>5.5</td>\n",
              "      <td>14</td>\n",
              "      <td>6.285714</td>\n",
              "      <td>4</td>\n",
              "      <td>16</td>\n",
              "      <td>9</td>\n",
              "      <td>0</td>\n",
              "      <td>...</td>\n",
              "      <td>0</td>\n",
              "      <td>0</td>\n",
              "      <td>-1</td>\n",
              "      <td>0.709396</td>\n",
              "      <td>0.784493</td>\n",
              "      <td>0.814725</td>\n",
              "      <td>0.797498</td>\n",
              "      <td>0.0</td>\n",
              "      <td>-1.0</td>\n",
              "      <td>Defacement</td>\n",
              "    </tr>\n",
              "    <tr>\n",
              "      <th>8</th>\n",
              "      <td>0</td>\n",
              "      <td>4</td>\n",
              "      <td>6</td>\n",
              "      <td>5.5</td>\n",
              "      <td>14</td>\n",
              "      <td>6.500000</td>\n",
              "      <td>4</td>\n",
              "      <td>16</td>\n",
              "      <td>10</td>\n",
              "      <td>0</td>\n",
              "      <td>...</td>\n",
              "      <td>0</td>\n",
              "      <td>0</td>\n",
              "      <td>-1</td>\n",
              "      <td>0.678242</td>\n",
              "      <td>0.784493</td>\n",
              "      <td>0.814725</td>\n",
              "      <td>0.732258</td>\n",
              "      <td>0.0</td>\n",
              "      <td>-1.0</td>\n",
              "      <td>Defacement</td>\n",
              "    </tr>\n",
              "    <tr>\n",
              "      <th>9</th>\n",
              "      <td>0</td>\n",
              "      <td>4</td>\n",
              "      <td>5</td>\n",
              "      <td>5.5</td>\n",
              "      <td>14</td>\n",
              "      <td>3.600000</td>\n",
              "      <td>4</td>\n",
              "      <td>7</td>\n",
              "      <td>3</td>\n",
              "      <td>0</td>\n",
              "      <td>...</td>\n",
              "      <td>1</td>\n",
              "      <td>0</td>\n",
              "      <td>-1</td>\n",
              "      <td>0.740950</td>\n",
              "      <td>0.784493</td>\n",
              "      <td>0.894886</td>\n",
              "      <td>0.894886</td>\n",
              "      <td>NaN</td>\n",
              "      <td>-1.0</td>\n",
              "      <td>Defacement</td>\n",
              "    </tr>\n",
              "  </tbody>\n",
              "</table>\n",
              "<p>10 rows × 80 columns</p>\n",
              "</div>\n",
              "      <button class=\"colab-df-convert\" onclick=\"convertToInteractive('df-3cf32603-147d-4ef1-8602-ead99a60a147')\"\n",
              "              title=\"Convert this dataframe to an interactive table.\"\n",
              "              style=\"display:none;\">\n",
              "        \n",
              "  <svg xmlns=\"http://www.w3.org/2000/svg\" height=\"24px\"viewBox=\"0 0 24 24\"\n",
              "       width=\"24px\">\n",
              "    <path d=\"M0 0h24v24H0V0z\" fill=\"none\"/>\n",
              "    <path d=\"M18.56 5.44l.94 2.06.94-2.06 2.06-.94-2.06-.94-.94-2.06-.94 2.06-2.06.94zm-11 1L8.5 8.5l.94-2.06 2.06-.94-2.06-.94L8.5 2.5l-.94 2.06-2.06.94zm10 10l.94 2.06.94-2.06 2.06-.94-2.06-.94-.94-2.06-.94 2.06-2.06.94z\"/><path d=\"M17.41 7.96l-1.37-1.37c-.4-.4-.92-.59-1.43-.59-.52 0-1.04.2-1.43.59L10.3 9.45l-7.72 7.72c-.78.78-.78 2.05 0 2.83L4 21.41c.39.39.9.59 1.41.59.51 0 1.02-.2 1.41-.59l7.78-7.78 2.81-2.81c.8-.78.8-2.07 0-2.86zM5.41 20L4 18.59l7.72-7.72 1.47 1.35L5.41 20z\"/>\n",
              "  </svg>\n",
              "      </button>\n",
              "      \n",
              "  <style>\n",
              "    .colab-df-container {\n",
              "      display:flex;\n",
              "      flex-wrap:wrap;\n",
              "      gap: 12px;\n",
              "    }\n",
              "\n",
              "    .colab-df-convert {\n",
              "      background-color: #E8F0FE;\n",
              "      border: none;\n",
              "      border-radius: 50%;\n",
              "      cursor: pointer;\n",
              "      display: none;\n",
              "      fill: #1967D2;\n",
              "      height: 32px;\n",
              "      padding: 0 0 0 0;\n",
              "      width: 32px;\n",
              "    }\n",
              "\n",
              "    .colab-df-convert:hover {\n",
              "      background-color: #E2EBFA;\n",
              "      box-shadow: 0px 1px 2px rgba(60, 64, 67, 0.3), 0px 1px 3px 1px rgba(60, 64, 67, 0.15);\n",
              "      fill: #174EA6;\n",
              "    }\n",
              "\n",
              "    [theme=dark] .colab-df-convert {\n",
              "      background-color: #3B4455;\n",
              "      fill: #D2E3FC;\n",
              "    }\n",
              "\n",
              "    [theme=dark] .colab-df-convert:hover {\n",
              "      background-color: #434B5C;\n",
              "      box-shadow: 0px 1px 3px 1px rgba(0, 0, 0, 0.15);\n",
              "      filter: drop-shadow(0px 1px 2px rgba(0, 0, 0, 0.3));\n",
              "      fill: #FFFFFF;\n",
              "    }\n",
              "  </style>\n",
              "\n",
              "      <script>\n",
              "        const buttonEl =\n",
              "          document.querySelector('#df-3cf32603-147d-4ef1-8602-ead99a60a147 button.colab-df-convert');\n",
              "        buttonEl.style.display =\n",
              "          google.colab.kernel.accessAllowed ? 'block' : 'none';\n",
              "\n",
              "        async function convertToInteractive(key) {\n",
              "          const element = document.querySelector('#df-3cf32603-147d-4ef1-8602-ead99a60a147');\n",
              "          const dataTable =\n",
              "            await google.colab.kernel.invokeFunction('convertToInteractive',\n",
              "                                                     [key], {});\n",
              "          if (!dataTable) return;\n",
              "\n",
              "          const docLinkHtml = 'Like what you see? Visit the ' +\n",
              "            '<a target=\"_blank\" href=https://colab.research.google.com/notebooks/data_table.ipynb>data table notebook</a>'\n",
              "            + ' to learn more about interactive tables.';\n",
              "          element.innerHTML = '';\n",
              "          dataTable['output_type'] = 'display_data';\n",
              "          await google.colab.output.renderOutput(dataTable, element);\n",
              "          const docLink = document.createElement('div');\n",
              "          docLink.innerHTML = docLinkHtml;\n",
              "          element.appendChild(docLink);\n",
              "        }\n",
              "      </script>\n",
              "    </div>\n",
              "  </div>\n",
              "  "
            ]
          },
          "metadata": {},
          "execution_count": 12
        }
      ]
    },
    {
      "cell_type": "code",
      "execution_count": 13,
      "metadata": {
        "id": "h_7Y2Ytp7xa-"
      },
      "outputs": [],
      "source": [
        "df1 = loadData('/content/gdrive/My Drive/Research_datasets/All.csv')\n",
        "df1=df1.dropna(axis=1)"
      ]
    },
    {
      "cell_type": "markdown",
      "metadata": {
        "id": "mekPFv6lplwm"
      },
      "source": [
        "### Display Data Columns"
      ]
    },
    {
      "cell_type": "code",
      "execution_count": 14,
      "metadata": {
        "colab": {
          "base_uri": "https://localhost:8080/"
        },
        "id": "4ZwM-GC1-LPj",
        "outputId": "9552b865-b822-4943-8771-29ee958f08a7"
      },
      "outputs": [
        {
          "output_type": "execute_result",
          "data": {
            "text/plain": [
              "Index(['Querylength', 'domain_token_count', 'path_token_count',\n",
              "       'avgdomaintokenlen', 'longdomaintokenlen', 'avgpathtokenlen', 'tld',\n",
              "       'charcompvowels', 'charcompace', 'ldl_url', 'ldl_domain', 'ldl_path',\n",
              "       'ldl_filename', 'ldl_getArg', 'dld_url', 'dld_domain', 'dld_path',\n",
              "       'dld_filename', 'dld_getArg', 'urlLen', 'domainlength', 'pathLength',\n",
              "       'subDirLen', 'fileNameLen', 'this.fileExtLen', 'ArgLen', 'pathurlRatio',\n",
              "       'ArgUrlRatio', 'argDomanRatio', 'domainUrlRatio', 'pathDomainRatio',\n",
              "       'argPathRatio', 'executable', 'isPortEighty', 'NumberofDotsinURL',\n",
              "       'ISIpAddressInDomainName', 'CharacterContinuityRate',\n",
              "       'LongestVariableValue', 'URL_DigitCount', 'host_DigitCount',\n",
              "       'Directory_DigitCount', 'File_name_DigitCount', 'Extension_DigitCount',\n",
              "       'Query_DigitCount', 'URL_Letter_Count', 'host_letter_count',\n",
              "       'Directory_LetterCount', 'Filename_LetterCount',\n",
              "       'Extension_LetterCount', 'Query_LetterCount', 'LongestPathTokenLength',\n",
              "       'Domain_LongestWordLength', 'Path_LongestWordLength',\n",
              "       'sub-Directory_LongestWordLength', 'Arguments_LongestWordLength',\n",
              "       'URL_sensitiveWord', 'URLQueries_variable', 'spcharUrl',\n",
              "       'delimeter_Domain', 'delimeter_path', 'delimeter_Count',\n",
              "       'NumberRate_URL', 'NumberRate_Domain', 'NumberRate_DirectoryName',\n",
              "       'NumberRate_FileName', 'NumberRate_Extension', 'NumberRate_AfterPath',\n",
              "       'SymbolCount_URL', 'SymbolCount_Domain', 'SymbolCount_Directoryname',\n",
              "       'SymbolCount_FileName', 'SymbolCount_Extension',\n",
              "       'SymbolCount_Afterpath', 'Entropy_URL', 'Entropy_Domain',\n",
              "       'Entropy_DirectoryName', 'Entropy_Filename', 'Entropy_Extension',\n",
              "       'Entropy_Afterpath', 'URL_Type_obf_Type'],\n",
              "      dtype='object')"
            ]
          },
          "metadata": {},
          "execution_count": 14
        }
      ],
      "source": [
        "df1.columns"
      ]
    },
    {
      "cell_type": "markdown",
      "metadata": {
        "id": "wX24a-Woplwt"
      },
      "source": [
        "### Display Matrix Shape of Data\n",
        "> In the format (samples, columns)"
      ]
    },
    {
      "cell_type": "code",
      "execution_count": 15,
      "metadata": {
        "colab": {
          "base_uri": "https://localhost:8080/"
        },
        "id": "NBvgfW-J--g8",
        "outputId": "fc50870d-fb66-47ef-a752-358b62e39d19"
      },
      "outputs": [
        {
          "output_type": "execute_result",
          "data": {
            "text/plain": [
              "(18982, 80)"
            ]
          },
          "metadata": {},
          "execution_count": 15
        }
      ],
      "source": [
        "df1.shape"
      ]
    },
    {
      "cell_type": "markdown",
      "metadata": {
        "id": "BSjQXVYKplw0"
      },
      "source": [
        "### Display First Samples in Data"
      ]
    },
    {
      "cell_type": "code",
      "execution_count": 16,
      "metadata": {
        "colab": {
          "base_uri": "https://localhost:8080/",
          "height": 300
        },
        "id": "9eYtvDf5AAR5",
        "outputId": "a0bd1d90-1bc8-48c5-a58b-1e7d01c5f8bd"
      },
      "outputs": [
        {
          "output_type": "execute_result",
          "data": {
            "text/plain": [
              "    Querylength  domain_token_count  path_token_count  avgdomaintokenlen  \\\n",
              "35            0                   4                 4               6.25   \n",
              "37           22                   4                10               6.25   \n",
              "38           23                   4                10               6.25   \n",
              "39           22                   4                10               6.25   \n",
              "40           23                   4                10               6.25   \n",
              "\n",
              "    longdomaintokenlen  avgpathtokenlen  tld  charcompvowels  charcompace  \\\n",
              "35                  17             3.75    4               4            2   \n",
              "37                  17             3.50    4              19           10   \n",
              "38                  17             3.50    4              19           10   \n",
              "39                  17             3.50    4              19           10   \n",
              "40                  17             3.50    4              19           10   \n",
              "\n",
              "    ldl_url  ...  SymbolCount_FileName  SymbolCount_Extension  \\\n",
              "35        0  ...                     1                      0   \n",
              "37        0  ...                     9                      8   \n",
              "38        0  ...                     9                      8   \n",
              "39        0  ...                     9                      8   \n",
              "40        0  ...                     9                      8   \n",
              "\n",
              "    SymbolCount_Afterpath  Entropy_URL  Entropy_Domain  Entropy_DirectoryName  \\\n",
              "35                     -1     0.726945        0.768811               0.916667   \n",
              "37                      7     0.686486        0.768811               0.916667   \n",
              "38                      7     0.687286        0.768811               0.916667   \n",
              "39                      7     0.683476        0.768811               0.916667   \n",
              "40                      7     0.687286        0.768811               0.916667   \n",
              "\n",
              "    Entropy_Filename  Entropy_Extension  Entropy_Afterpath  URL_Type_obf_Type  \n",
              "35          1.000000           1.000000          -1.000000         Defacement  \n",
              "37          0.748105           0.757206           0.749167         Defacement  \n",
              "38          0.747622           0.756298           0.748268         Defacement  \n",
              "39          0.742090           0.750292           0.741506         Defacement  \n",
              "40          0.747622           0.756298           0.748268         Defacement  \n",
              "\n",
              "[5 rows x 80 columns]"
            ],
            "text/html": [
              "\n",
              "  <div id=\"df-b924d45e-06e4-4a4d-80f1-d26958b84fed\">\n",
              "    <div class=\"colab-df-container\">\n",
              "      <div>\n",
              "<style scoped>\n",
              "    .dataframe tbody tr th:only-of-type {\n",
              "        vertical-align: middle;\n",
              "    }\n",
              "\n",
              "    .dataframe tbody tr th {\n",
              "        vertical-align: top;\n",
              "    }\n",
              "\n",
              "    .dataframe thead th {\n",
              "        text-align: right;\n",
              "    }\n",
              "</style>\n",
              "<table border=\"1\" class=\"dataframe\">\n",
              "  <thead>\n",
              "    <tr style=\"text-align: right;\">\n",
              "      <th></th>\n",
              "      <th>Querylength</th>\n",
              "      <th>domain_token_count</th>\n",
              "      <th>path_token_count</th>\n",
              "      <th>avgdomaintokenlen</th>\n",
              "      <th>longdomaintokenlen</th>\n",
              "      <th>avgpathtokenlen</th>\n",
              "      <th>tld</th>\n",
              "      <th>charcompvowels</th>\n",
              "      <th>charcompace</th>\n",
              "      <th>ldl_url</th>\n",
              "      <th>...</th>\n",
              "      <th>SymbolCount_FileName</th>\n",
              "      <th>SymbolCount_Extension</th>\n",
              "      <th>SymbolCount_Afterpath</th>\n",
              "      <th>Entropy_URL</th>\n",
              "      <th>Entropy_Domain</th>\n",
              "      <th>Entropy_DirectoryName</th>\n",
              "      <th>Entropy_Filename</th>\n",
              "      <th>Entropy_Extension</th>\n",
              "      <th>Entropy_Afterpath</th>\n",
              "      <th>URL_Type_obf_Type</th>\n",
              "    </tr>\n",
              "  </thead>\n",
              "  <tbody>\n",
              "    <tr>\n",
              "      <th>35</th>\n",
              "      <td>0</td>\n",
              "      <td>4</td>\n",
              "      <td>4</td>\n",
              "      <td>6.25</td>\n",
              "      <td>17</td>\n",
              "      <td>3.75</td>\n",
              "      <td>4</td>\n",
              "      <td>4</td>\n",
              "      <td>2</td>\n",
              "      <td>0</td>\n",
              "      <td>...</td>\n",
              "      <td>1</td>\n",
              "      <td>0</td>\n",
              "      <td>-1</td>\n",
              "      <td>0.726945</td>\n",
              "      <td>0.768811</td>\n",
              "      <td>0.916667</td>\n",
              "      <td>1.000000</td>\n",
              "      <td>1.000000</td>\n",
              "      <td>-1.000000</td>\n",
              "      <td>Defacement</td>\n",
              "    </tr>\n",
              "    <tr>\n",
              "      <th>37</th>\n",
              "      <td>22</td>\n",
              "      <td>4</td>\n",
              "      <td>10</td>\n",
              "      <td>6.25</td>\n",
              "      <td>17</td>\n",
              "      <td>3.50</td>\n",
              "      <td>4</td>\n",
              "      <td>19</td>\n",
              "      <td>10</td>\n",
              "      <td>0</td>\n",
              "      <td>...</td>\n",
              "      <td>9</td>\n",
              "      <td>8</td>\n",
              "      <td>7</td>\n",
              "      <td>0.686486</td>\n",
              "      <td>0.768811</td>\n",
              "      <td>0.916667</td>\n",
              "      <td>0.748105</td>\n",
              "      <td>0.757206</td>\n",
              "      <td>0.749167</td>\n",
              "      <td>Defacement</td>\n",
              "    </tr>\n",
              "    <tr>\n",
              "      <th>38</th>\n",
              "      <td>23</td>\n",
              "      <td>4</td>\n",
              "      <td>10</td>\n",
              "      <td>6.25</td>\n",
              "      <td>17</td>\n",
              "      <td>3.50</td>\n",
              "      <td>4</td>\n",
              "      <td>19</td>\n",
              "      <td>10</td>\n",
              "      <td>0</td>\n",
              "      <td>...</td>\n",
              "      <td>9</td>\n",
              "      <td>8</td>\n",
              "      <td>7</td>\n",
              "      <td>0.687286</td>\n",
              "      <td>0.768811</td>\n",
              "      <td>0.916667</td>\n",
              "      <td>0.747622</td>\n",
              "      <td>0.756298</td>\n",
              "      <td>0.748268</td>\n",
              "      <td>Defacement</td>\n",
              "    </tr>\n",
              "    <tr>\n",
              "      <th>39</th>\n",
              "      <td>22</td>\n",
              "      <td>4</td>\n",
              "      <td>10</td>\n",
              "      <td>6.25</td>\n",
              "      <td>17</td>\n",
              "      <td>3.50</td>\n",
              "      <td>4</td>\n",
              "      <td>19</td>\n",
              "      <td>10</td>\n",
              "      <td>0</td>\n",
              "      <td>...</td>\n",
              "      <td>9</td>\n",
              "      <td>8</td>\n",
              "      <td>7</td>\n",
              "      <td>0.683476</td>\n",
              "      <td>0.768811</td>\n",
              "      <td>0.916667</td>\n",
              "      <td>0.742090</td>\n",
              "      <td>0.750292</td>\n",
              "      <td>0.741506</td>\n",
              "      <td>Defacement</td>\n",
              "    </tr>\n",
              "    <tr>\n",
              "      <th>40</th>\n",
              "      <td>23</td>\n",
              "      <td>4</td>\n",
              "      <td>10</td>\n",
              "      <td>6.25</td>\n",
              "      <td>17</td>\n",
              "      <td>3.50</td>\n",
              "      <td>4</td>\n",
              "      <td>19</td>\n",
              "      <td>10</td>\n",
              "      <td>0</td>\n",
              "      <td>...</td>\n",
              "      <td>9</td>\n",
              "      <td>8</td>\n",
              "      <td>7</td>\n",
              "      <td>0.687286</td>\n",
              "      <td>0.768811</td>\n",
              "      <td>0.916667</td>\n",
              "      <td>0.747622</td>\n",
              "      <td>0.756298</td>\n",
              "      <td>0.748268</td>\n",
              "      <td>Defacement</td>\n",
              "    </tr>\n",
              "  </tbody>\n",
              "</table>\n",
              "<p>5 rows × 80 columns</p>\n",
              "</div>\n",
              "      <button class=\"colab-df-convert\" onclick=\"convertToInteractive('df-b924d45e-06e4-4a4d-80f1-d26958b84fed')\"\n",
              "              title=\"Convert this dataframe to an interactive table.\"\n",
              "              style=\"display:none;\">\n",
              "        \n",
              "  <svg xmlns=\"http://www.w3.org/2000/svg\" height=\"24px\"viewBox=\"0 0 24 24\"\n",
              "       width=\"24px\">\n",
              "    <path d=\"M0 0h24v24H0V0z\" fill=\"none\"/>\n",
              "    <path d=\"M18.56 5.44l.94 2.06.94-2.06 2.06-.94-2.06-.94-.94-2.06-.94 2.06-2.06.94zm-11 1L8.5 8.5l.94-2.06 2.06-.94-2.06-.94L8.5 2.5l-.94 2.06-2.06.94zm10 10l.94 2.06.94-2.06 2.06-.94-2.06-.94-.94-2.06-.94 2.06-2.06.94z\"/><path d=\"M17.41 7.96l-1.37-1.37c-.4-.4-.92-.59-1.43-.59-.52 0-1.04.2-1.43.59L10.3 9.45l-7.72 7.72c-.78.78-.78 2.05 0 2.83L4 21.41c.39.39.9.59 1.41.59.51 0 1.02-.2 1.41-.59l7.78-7.78 2.81-2.81c.8-.78.8-2.07 0-2.86zM5.41 20L4 18.59l7.72-7.72 1.47 1.35L5.41 20z\"/>\n",
              "  </svg>\n",
              "      </button>\n",
              "      \n",
              "  <style>\n",
              "    .colab-df-container {\n",
              "      display:flex;\n",
              "      flex-wrap:wrap;\n",
              "      gap: 12px;\n",
              "    }\n",
              "\n",
              "    .colab-df-convert {\n",
              "      background-color: #E8F0FE;\n",
              "      border: none;\n",
              "      border-radius: 50%;\n",
              "      cursor: pointer;\n",
              "      display: none;\n",
              "      fill: #1967D2;\n",
              "      height: 32px;\n",
              "      padding: 0 0 0 0;\n",
              "      width: 32px;\n",
              "    }\n",
              "\n",
              "    .colab-df-convert:hover {\n",
              "      background-color: #E2EBFA;\n",
              "      box-shadow: 0px 1px 2px rgba(60, 64, 67, 0.3), 0px 1px 3px 1px rgba(60, 64, 67, 0.15);\n",
              "      fill: #174EA6;\n",
              "    }\n",
              "\n",
              "    [theme=dark] .colab-df-convert {\n",
              "      background-color: #3B4455;\n",
              "      fill: #D2E3FC;\n",
              "    }\n",
              "\n",
              "    [theme=dark] .colab-df-convert:hover {\n",
              "      background-color: #434B5C;\n",
              "      box-shadow: 0px 1px 3px 1px rgba(0, 0, 0, 0.15);\n",
              "      filter: drop-shadow(0px 1px 2px rgba(0, 0, 0, 0.3));\n",
              "      fill: #FFFFFF;\n",
              "    }\n",
              "  </style>\n",
              "\n",
              "      <script>\n",
              "        const buttonEl =\n",
              "          document.querySelector('#df-b924d45e-06e4-4a4d-80f1-d26958b84fed button.colab-df-convert');\n",
              "        buttonEl.style.display =\n",
              "          google.colab.kernel.accessAllowed ? 'block' : 'none';\n",
              "\n",
              "        async function convertToInteractive(key) {\n",
              "          const element = document.querySelector('#df-b924d45e-06e4-4a4d-80f1-d26958b84fed');\n",
              "          const dataTable =\n",
              "            await google.colab.kernel.invokeFunction('convertToInteractive',\n",
              "                                                     [key], {});\n",
              "          if (!dataTable) return;\n",
              "\n",
              "          const docLinkHtml = 'Like what you see? Visit the ' +\n",
              "            '<a target=\"_blank\" href=https://colab.research.google.com/notebooks/data_table.ipynb>data table notebook</a>'\n",
              "            + ' to learn more about interactive tables.';\n",
              "          element.innerHTML = '';\n",
              "          dataTable['output_type'] = 'display_data';\n",
              "          await google.colab.output.renderOutput(dataTable, element);\n",
              "          const docLink = document.createElement('div');\n",
              "          docLink.innerHTML = docLinkHtml;\n",
              "          element.appendChild(docLink);\n",
              "        }\n",
              "      </script>\n",
              "    </div>\n",
              "  </div>\n",
              "  "
            ]
          },
          "metadata": {},
          "execution_count": 16
        }
      ],
      "source": [
        "df1.head()"
      ]
    },
    {
      "cell_type": "markdown",
      "metadata": {
        "id": "OLiGVjzOplw6"
      },
      "source": [
        "### Display Last Samples in Data"
      ]
    },
    {
      "cell_type": "code",
      "execution_count": 17,
      "metadata": {
        "colab": {
          "base_uri": "https://localhost:8080/",
          "height": 300
        },
        "id": "LsqLE8Wnplw7",
        "outputId": "f2d3ed74-4b98-4823-af69-f8c72ad56cf2"
      },
      "outputs": [
        {
          "output_type": "execute_result",
          "data": {
            "text/plain": [
              "       Querylength  domain_token_count  path_token_count  avgdomaintokenlen  \\\n",
              "36702           29                   4                14           5.750000   \n",
              "36703            0                   4                13           3.750000   \n",
              "36704           58                   3                27           6.666666   \n",
              "36705           35                   3                13           4.333334   \n",
              "36706           40                   3                25           6.666666   \n",
              "\n",
              "       longdomaintokenlen  avgpathtokenlen  tld  charcompvowels  charcompace  \\\n",
              "36702                  12         3.666667    4              20           24   \n",
              "36703                   8         8.461538    4              24           23   \n",
              "36704                  16         3.375000    3              41           34   \n",
              "36705                   9         3.600000    3              15           13   \n",
              "36706                  16         3.250000    3              35           31   \n",
              "\n",
              "       ldl_url  ...  SymbolCount_FileName  SymbolCount_Extension  \\\n",
              "36702        3  ...                     3                      2   \n",
              "36703        0  ...                    16                     15   \n",
              "36704       20  ...                     8                      7   \n",
              "36705        7  ...                     9                      8   \n",
              "36706       19  ...                     7                      6   \n",
              "\n",
              "       SymbolCount_Afterpath  Entropy_URL  Entropy_Domain  \\\n",
              "36702                      7     0.690555        0.791265   \n",
              "36703                     -1     0.665492        0.820010   \n",
              "36704                      9     0.656807        0.801139   \n",
              "36705                      3     0.725963        0.897617   \n",
              "36706                      7     0.674351        0.801139   \n",
              "\n",
              "       Entropy_DirectoryName  Entropy_Filename  Entropy_Extension  \\\n",
              "36702               0.777498          0.690227           0.656684   \n",
              "36703               0.879588          0.674400           0.674671   \n",
              "36704               0.684777          0.713622           0.717187   \n",
              "36705               0.871049          0.745932           0.758824   \n",
              "36706               0.697282          0.730563           0.731481   \n",
              "\n",
              "       Entropy_Afterpath  URL_Type_obf_Type  \n",
              "36702           0.796205               spam  \n",
              "36703          -1.000000               spam  \n",
              "36704           0.705245               spam  \n",
              "36705           0.790772               spam  \n",
              "36706           0.769238               spam  \n",
              "\n",
              "[5 rows x 80 columns]"
            ],
            "text/html": [
              "\n",
              "  <div id=\"df-813ba84a-6586-4ee4-aa63-368d2015238b\">\n",
              "    <div class=\"colab-df-container\">\n",
              "      <div>\n",
              "<style scoped>\n",
              "    .dataframe tbody tr th:only-of-type {\n",
              "        vertical-align: middle;\n",
              "    }\n",
              "\n",
              "    .dataframe tbody tr th {\n",
              "        vertical-align: top;\n",
              "    }\n",
              "\n",
              "    .dataframe thead th {\n",
              "        text-align: right;\n",
              "    }\n",
              "</style>\n",
              "<table border=\"1\" class=\"dataframe\">\n",
              "  <thead>\n",
              "    <tr style=\"text-align: right;\">\n",
              "      <th></th>\n",
              "      <th>Querylength</th>\n",
              "      <th>domain_token_count</th>\n",
              "      <th>path_token_count</th>\n",
              "      <th>avgdomaintokenlen</th>\n",
              "      <th>longdomaintokenlen</th>\n",
              "      <th>avgpathtokenlen</th>\n",
              "      <th>tld</th>\n",
              "      <th>charcompvowels</th>\n",
              "      <th>charcompace</th>\n",
              "      <th>ldl_url</th>\n",
              "      <th>...</th>\n",
              "      <th>SymbolCount_FileName</th>\n",
              "      <th>SymbolCount_Extension</th>\n",
              "      <th>SymbolCount_Afterpath</th>\n",
              "      <th>Entropy_URL</th>\n",
              "      <th>Entropy_Domain</th>\n",
              "      <th>Entropy_DirectoryName</th>\n",
              "      <th>Entropy_Filename</th>\n",
              "      <th>Entropy_Extension</th>\n",
              "      <th>Entropy_Afterpath</th>\n",
              "      <th>URL_Type_obf_Type</th>\n",
              "    </tr>\n",
              "  </thead>\n",
              "  <tbody>\n",
              "    <tr>\n",
              "      <th>36702</th>\n",
              "      <td>29</td>\n",
              "      <td>4</td>\n",
              "      <td>14</td>\n",
              "      <td>5.750000</td>\n",
              "      <td>12</td>\n",
              "      <td>3.666667</td>\n",
              "      <td>4</td>\n",
              "      <td>20</td>\n",
              "      <td>24</td>\n",
              "      <td>3</td>\n",
              "      <td>...</td>\n",
              "      <td>3</td>\n",
              "      <td>2</td>\n",
              "      <td>7</td>\n",
              "      <td>0.690555</td>\n",
              "      <td>0.791265</td>\n",
              "      <td>0.777498</td>\n",
              "      <td>0.690227</td>\n",
              "      <td>0.656684</td>\n",
              "      <td>0.796205</td>\n",
              "      <td>spam</td>\n",
              "    </tr>\n",
              "    <tr>\n",
              "      <th>36703</th>\n",
              "      <td>0</td>\n",
              "      <td>4</td>\n",
              "      <td>13</td>\n",
              "      <td>3.750000</td>\n",
              "      <td>8</td>\n",
              "      <td>8.461538</td>\n",
              "      <td>4</td>\n",
              "      <td>24</td>\n",
              "      <td>23</td>\n",
              "      <td>0</td>\n",
              "      <td>...</td>\n",
              "      <td>16</td>\n",
              "      <td>15</td>\n",
              "      <td>-1</td>\n",
              "      <td>0.665492</td>\n",
              "      <td>0.820010</td>\n",
              "      <td>0.879588</td>\n",
              "      <td>0.674400</td>\n",
              "      <td>0.674671</td>\n",
              "      <td>-1.000000</td>\n",
              "      <td>spam</td>\n",
              "    </tr>\n",
              "    <tr>\n",
              "      <th>36704</th>\n",
              "      <td>58</td>\n",
              "      <td>3</td>\n",
              "      <td>27</td>\n",
              "      <td>6.666666</td>\n",
              "      <td>16</td>\n",
              "      <td>3.375000</td>\n",
              "      <td>3</td>\n",
              "      <td>41</td>\n",
              "      <td>34</td>\n",
              "      <td>20</td>\n",
              "      <td>...</td>\n",
              "      <td>8</td>\n",
              "      <td>7</td>\n",
              "      <td>9</td>\n",
              "      <td>0.656807</td>\n",
              "      <td>0.801139</td>\n",
              "      <td>0.684777</td>\n",
              "      <td>0.713622</td>\n",
              "      <td>0.717187</td>\n",
              "      <td>0.705245</td>\n",
              "      <td>spam</td>\n",
              "    </tr>\n",
              "    <tr>\n",
              "      <th>36705</th>\n",
              "      <td>35</td>\n",
              "      <td>3</td>\n",
              "      <td>13</td>\n",
              "      <td>4.333334</td>\n",
              "      <td>9</td>\n",
              "      <td>3.600000</td>\n",
              "      <td>3</td>\n",
              "      <td>15</td>\n",
              "      <td>13</td>\n",
              "      <td>7</td>\n",
              "      <td>...</td>\n",
              "      <td>9</td>\n",
              "      <td>8</td>\n",
              "      <td>3</td>\n",
              "      <td>0.725963</td>\n",
              "      <td>0.897617</td>\n",
              "      <td>0.871049</td>\n",
              "      <td>0.745932</td>\n",
              "      <td>0.758824</td>\n",
              "      <td>0.790772</td>\n",
              "      <td>spam</td>\n",
              "    </tr>\n",
              "    <tr>\n",
              "      <th>36706</th>\n",
              "      <td>40</td>\n",
              "      <td>3</td>\n",
              "      <td>25</td>\n",
              "      <td>6.666666</td>\n",
              "      <td>16</td>\n",
              "      <td>3.250000</td>\n",
              "      <td>3</td>\n",
              "      <td>35</td>\n",
              "      <td>31</td>\n",
              "      <td>19</td>\n",
              "      <td>...</td>\n",
              "      <td>7</td>\n",
              "      <td>6</td>\n",
              "      <td>7</td>\n",
              "      <td>0.674351</td>\n",
              "      <td>0.801139</td>\n",
              "      <td>0.697282</td>\n",
              "      <td>0.730563</td>\n",
              "      <td>0.731481</td>\n",
              "      <td>0.769238</td>\n",
              "      <td>spam</td>\n",
              "    </tr>\n",
              "  </tbody>\n",
              "</table>\n",
              "<p>5 rows × 80 columns</p>\n",
              "</div>\n",
              "      <button class=\"colab-df-convert\" onclick=\"convertToInteractive('df-813ba84a-6586-4ee4-aa63-368d2015238b')\"\n",
              "              title=\"Convert this dataframe to an interactive table.\"\n",
              "              style=\"display:none;\">\n",
              "        \n",
              "  <svg xmlns=\"http://www.w3.org/2000/svg\" height=\"24px\"viewBox=\"0 0 24 24\"\n",
              "       width=\"24px\">\n",
              "    <path d=\"M0 0h24v24H0V0z\" fill=\"none\"/>\n",
              "    <path d=\"M18.56 5.44l.94 2.06.94-2.06 2.06-.94-2.06-.94-.94-2.06-.94 2.06-2.06.94zm-11 1L8.5 8.5l.94-2.06 2.06-.94-2.06-.94L8.5 2.5l-.94 2.06-2.06.94zm10 10l.94 2.06.94-2.06 2.06-.94-2.06-.94-.94-2.06-.94 2.06-2.06.94z\"/><path d=\"M17.41 7.96l-1.37-1.37c-.4-.4-.92-.59-1.43-.59-.52 0-1.04.2-1.43.59L10.3 9.45l-7.72 7.72c-.78.78-.78 2.05 0 2.83L4 21.41c.39.39.9.59 1.41.59.51 0 1.02-.2 1.41-.59l7.78-7.78 2.81-2.81c.8-.78.8-2.07 0-2.86zM5.41 20L4 18.59l7.72-7.72 1.47 1.35L5.41 20z\"/>\n",
              "  </svg>\n",
              "      </button>\n",
              "      \n",
              "  <style>\n",
              "    .colab-df-container {\n",
              "      display:flex;\n",
              "      flex-wrap:wrap;\n",
              "      gap: 12px;\n",
              "    }\n",
              "\n",
              "    .colab-df-convert {\n",
              "      background-color: #E8F0FE;\n",
              "      border: none;\n",
              "      border-radius: 50%;\n",
              "      cursor: pointer;\n",
              "      display: none;\n",
              "      fill: #1967D2;\n",
              "      height: 32px;\n",
              "      padding: 0 0 0 0;\n",
              "      width: 32px;\n",
              "    }\n",
              "\n",
              "    .colab-df-convert:hover {\n",
              "      background-color: #E2EBFA;\n",
              "      box-shadow: 0px 1px 2px rgba(60, 64, 67, 0.3), 0px 1px 3px 1px rgba(60, 64, 67, 0.15);\n",
              "      fill: #174EA6;\n",
              "    }\n",
              "\n",
              "    [theme=dark] .colab-df-convert {\n",
              "      background-color: #3B4455;\n",
              "      fill: #D2E3FC;\n",
              "    }\n",
              "\n",
              "    [theme=dark] .colab-df-convert:hover {\n",
              "      background-color: #434B5C;\n",
              "      box-shadow: 0px 1px 3px 1px rgba(0, 0, 0, 0.15);\n",
              "      filter: drop-shadow(0px 1px 2px rgba(0, 0, 0, 0.3));\n",
              "      fill: #FFFFFF;\n",
              "    }\n",
              "  </style>\n",
              "\n",
              "      <script>\n",
              "        const buttonEl =\n",
              "          document.querySelector('#df-813ba84a-6586-4ee4-aa63-368d2015238b button.colab-df-convert');\n",
              "        buttonEl.style.display =\n",
              "          google.colab.kernel.accessAllowed ? 'block' : 'none';\n",
              "\n",
              "        async function convertToInteractive(key) {\n",
              "          const element = document.querySelector('#df-813ba84a-6586-4ee4-aa63-368d2015238b');\n",
              "          const dataTable =\n",
              "            await google.colab.kernel.invokeFunction('convertToInteractive',\n",
              "                                                     [key], {});\n",
              "          if (!dataTable) return;\n",
              "\n",
              "          const docLinkHtml = 'Like what you see? Visit the ' +\n",
              "            '<a target=\"_blank\" href=https://colab.research.google.com/notebooks/data_table.ipynb>data table notebook</a>'\n",
              "            + ' to learn more about interactive tables.';\n",
              "          element.innerHTML = '';\n",
              "          dataTable['output_type'] = 'display_data';\n",
              "          await google.colab.output.renderOutput(dataTable, element);\n",
              "          const docLink = document.createElement('div');\n",
              "          docLink.innerHTML = docLinkHtml;\n",
              "          element.appendChild(docLink);\n",
              "        }\n",
              "      </script>\n",
              "    </div>\n",
              "  </div>\n",
              "  "
            ]
          },
          "metadata": {},
          "execution_count": 17
        }
      ],
      "source": [
        "df1.tail()"
      ]
    },
    {
      "cell_type": "markdown",
      "metadata": {
        "id": "f2zcKS_DAGcx"
      },
      "source": [
        "  ## Experimenting with Final Dataset/All.csv\n",
        "  \n",
        "  #### Total Samples for each Type"
      ]
    },
    {
      "cell_type": "code",
      "execution_count": 18,
      "metadata": {
        "colab": {
          "base_uri": "https://localhost:8080/"
        },
        "id": "NuFeBCWJABj9",
        "outputId": "9469561f-99fb-4698-b118-c9cce0ec7068"
      },
      "outputs": [
        {
          "output_type": "stream",
          "name": "stdout",
          "text": [
            "| malware | 4440 |\n",
            "| Defacement | 2477 |\n",
            "| phishing | 4014 |\n",
            "| spam | 5342 |\n",
            "| benign | 2709 |\n"
          ]
        }
      ],
      "source": [
        "label = 'URL_Type_obf_Type'\n",
        "lblTypes=set(df1[label])\n",
        "for lbl in lblTypes:\n",
        "    print('| {} | {} |'.format(lbl, len(df1[df1[label] == lbl].index)))"
      ]
    },
    {
      "cell_type": "code",
      "execution_count": 19,
      "metadata": {
        "id": "KlTOWuf8A_Yy"
      },
      "outputs": [],
      "source": [
        "dataPath = 'FinalDataset'\n",
        "dep_var = label"
      ]
    },
    {
      "cell_type": "markdown",
      "metadata": {
        "id": "B1keV97eplxW"
      },
      "source": [
        "### Cast column values to float\n",
        "> Values in this column register as object type, which isn't valid for testing, so cast them to float"
      ]
    },
    {
      "cell_type": "code",
      "execution_count": 20,
      "metadata": {
        "id": "2nFBzqafCKkG"
      },
      "outputs": [],
      "source": [
        "df1.argPathRatio = df1['argPathRatio'].astype('float')"
      ]
    },
    {
      "cell_type": "markdown",
      "metadata": {
        "id": "AaUqSRUiItig"
      },
      "source": [
        "## Experimenting with Tensorflow Keras"
      ]
    },
    {
      "cell_type": "markdown",
      "metadata": {
        "id": "4c-GxIVIIZAR"
      },
      "source": [
        "#### Globals for Testing\n"
      ]
    },
    {
      "cell_type": "code",
      "execution_count": 21,
      "metadata": {
        "id": "x-fMOCE2I7MI"
      },
      "outputs": [],
      "source": [
        "dataFile = '/content/gdrive/My Drive/Research_datasets/All.csv'\n",
        "epochs=100\n",
        "batch_size=64"
      ]
    },
    {
      "cell_type": "markdown",
      "metadata": {
        "id": "mxNlAPk2plxh"
      },
      "source": [
        "#### Show uncoded label column"
      ]
    },
    {
      "cell_type": "code",
      "execution_count": 22,
      "metadata": {
        "colab": {
          "base_uri": "https://localhost:8080/"
        },
        "id": "ZfKJek8splxi",
        "outputId": "75ed6740-a710-4401-abe8-0af057145716"
      },
      "outputs": [
        {
          "output_type": "execute_result",
          "data": {
            "text/plain": [
              "35       Defacement\n",
              "37       Defacement\n",
              "38       Defacement\n",
              "39       Defacement\n",
              "40       Defacement\n",
              "            ...    \n",
              "36702          spam\n",
              "36703          spam\n",
              "36704          spam\n",
              "36705          spam\n",
              "36706          spam\n",
              "Name: URL_Type_obf_Type, Length: 18982, dtype: object"
            ]
          },
          "metadata": {},
          "execution_count": 22
        }
      ],
      "source": [
        "df1[dep_var]"
      ]
    },
    {
      "cell_type": "markdown",
      "metadata": {
        "id": "ikcFoxzcplxt"
      },
      "source": [
        "#### Random seed for splitting"
      ]
    },
    {
      "cell_type": "code",
      "execution_count": 23,
      "metadata": {
        "id": "41We5rvNplxu"
      },
      "outputs": [],
      "source": [
        "seed = 7\n",
        "np.random.seed(seed)"
      ]
    },
    {
      "cell_type": "code",
      "execution_count": 24,
      "metadata": {
        "id": "LZVQv1Yf--45"
      },
      "outputs": [],
      "source": [
        "for file in glob.glob('keras_tensorflow_logs/Categorical*'):\n",
        "        if os.path.exists(file):\n",
        "            shutil.rmtree(file)\n",
        "for file in glob.glob('keras_tensorflow_logs/Binary*'):\n",
        "    if os.path.exists(file):\n",
        "        shutil.rmtree(file)"
      ]
    },
    {
      "cell_type": "markdown",
      "metadata": {
        "id": "tRIlEuMmDHbY"
      },
      "source": [
        "### Overfitting and Underfitting\n",
        "We need to test the best way to avoid over/under-fitting. \n",
        "\n",
        "1. Setup an early stop using the Keras Function\n",
        "2. Give the models a full train to see overfitting/underfitting results for the base model.\n",
        "2. Test Early Stop to prevent underfitting\n",
        "3. Test Weight Regularization\n",
        "4. Test a dropout\n",
        "\n",
        "> Goal is to train quickly and efficiently. "
      ]
    },
    {
      "cell_type": "code",
      "execution_count": 25,
      "metadata": {
        "id": "bqrMvP79DOlD"
      },
      "outputs": [],
      "source": [
        "#Constants for this\n",
        "early_stop = keras.callbacks.EarlyStopping(monitor='val_loss', patience=5)\n",
        "import datetime\n"
      ]
    },
    {
      "cell_type": "markdown",
      "metadata": {
        "id": "VUlPMdGoD3on"
      },
      "source": [
        "* We will use the function experiment and edit it until the model is properly fitted."
      ]
    },
    {
      "cell_type": "markdown",
      "metadata": {
        "id": "dDdgkOumKUPL"
      },
      "source": [
        "####  Model Creation steps\n",
        "1. Create a model with no changes (Baseline Test)\n",
        "------Hyper Parameter Tuning-----------\n",
        "2. Add the Early Stop\n",
        "3. test Dropout\n",
        "4. Test weight regularization\n",
        "5. Results\n"
      ]
    },
    {
      "cell_type": "markdown",
      "metadata": {
        "id": "-lx4z_kYgucn"
      },
      "source": [
        "# BaseLine test"
      ]
    },
    {
      "cell_type": "code",
      "execution_count": 26,
      "metadata": {
        "id": "fz2Fc0ySKZH1"
      },
      "outputs": [],
      "source": [
        "def TESTbaseline_model(inputDim=-1,outputDim=-1):\n",
        "    global model_extension, experimentTitle\n",
        "    model = tf.keras.Sequential([\n",
        "        Dense(128, activation='relu', input_shape=(inputDim,)),\n",
        "        BatchNormalization(),\n",
        "        Dense(64, activation='relu'),\n",
        "        BatchNormalization(),\n",
        "        Dense(outputDim, activation='softmax')\n",
        "    ]) #This is the output layer\n",
        "\n",
        "    if outputDim > 2:\n",
        "        print('Categorical Cross-Entropy Loss Function')\n",
        "        model_extension = \"_categorical\"\n",
        "        experimentTitle = \"Categorical\"\n",
        "        model.compile(optimizer='adam',\n",
        "                 loss='categorical_crossentropy',\n",
        "                 metrics=['accuracy'])\n",
        "    else:\n",
        "        print('Binary Cross-Entropy Loss Function')\n",
        "        model_extension = \"_binary\"\n",
        "        experimentTitle = \"Binary\"\n",
        "        model.compile(optimizer='adam',\n",
        "                loss='binary_crossentropy',\n",
        "                metrics=['accuracy'])\n",
        "\n",
        "    return model\n",
        "def BaseLine_experiment(dataframe, early=False):\n",
        "    kfold = StratifiedKFold(n_splits=10, shuffle=True, random_state=seed)\n",
        "    encoded_y = dataframe.copy()\n",
        "    encoded_y = encode_labels(encoded_y)\n",
        "    X=StandardScaler().fit_transform(dataframe.drop(dep_var, axis=1))\n",
        "    y=LabelEncoder().fit_transform(dataframe[dep_var].values)\n",
        "    start_time = time.time()\n",
        "    for index, (train_indices, val_indices) in enumerate(kfold.split(X, y)):\n",
        "        xtrain, xval = X[train_indices], X[val_indices]\n",
        "        ytrain, yval = encoded_y[train_indices], encoded_y[val_indices]\n",
        "        inputDim=xtrain.shape[1]\n",
        "        outputDim=ytrain.shape[1]\n",
        "        print(\"Running fold #\" + str(index+1))\n",
        "        model = TESTbaseline_model(inputDim,outputDim)    \n",
        "        time_gen = int(time.time())        \n",
        "        global model_name\n",
        "        model_name = f\"{dataFile}_{time_gen}\"\n",
        "        tensorboard = TensorBoard(log_dir='keras_tensorflow_logs/{}/{}_{}'.format(experimentTitle, model_name, model_extension),update_freq='epoch')\n",
        "        if early_stop:\n",
        "            callbacks = [tensorboard]\n",
        "        else:\n",
        "            callbacks = [tensorboard]\n",
        "        history = model.fit(xtrain, ytrain, epochs=epochs, validation_data=(xval,yval), callbacks=callbacks, batch_size=batch_size, verbose=0)        \n",
        "    global end_time \n",
        "    end_time = time.time() - start_time\n",
        "    TimeSetup = str(datetime.timedelta(seconds=end_time))\n",
        "    Minutes = int(end_time/60)\n",
        "    print(\"Time to complete {} [hour:min:sec]\".format(TimeSetup))    \n",
        "    return model, history, X, encoded_y"
      ]
    },
    {
      "cell_type": "code",
      "execution_count": 27,
      "metadata": {
        "colab": {
          "base_uri": "https://localhost:8080/",
          "height": 924
        },
        "id": "TUw-9Oj_Ka6D",
        "outputId": "c0a48ad6-722c-4ed7-9c7d-1ed58b1a343d"
      },
      "outputs": [
        {
          "output_type": "stream",
          "name": "stdout",
          "text": [
            "Running fold #1\n",
            "Categorical Cross-Entropy Loss Function\n",
            "Running fold #2\n",
            "Categorical Cross-Entropy Loss Function\n",
            "Running fold #3\n",
            "Categorical Cross-Entropy Loss Function\n",
            "Running fold #4\n",
            "Categorical Cross-Entropy Loss Function\n",
            "Running fold #5\n",
            "Categorical Cross-Entropy Loss Function\n",
            "Running fold #6\n",
            "Categorical Cross-Entropy Loss Function\n",
            "Running fold #7\n",
            "Categorical Cross-Entropy Loss Function\n",
            "Running fold #8\n",
            "Categorical Cross-Entropy Loss Function\n",
            "Running fold #9\n",
            "Categorical Cross-Entropy Loss Function\n",
            "Running fold #10\n",
            "Categorical Cross-Entropy Loss Function\n",
            "Time to complete 0:12:15.815258 [hour:min:sec]\n"
          ]
        },
        {
          "output_type": "display_data",
          "data": {
            "text/plain": [
              "<Figure size 432x288 with 1 Axes>"
            ],
            "image/png": "[encoded data removed]"
          },
          "metadata": {
            "needs_background": "light"
          }
        },
        {
          "output_type": "display_data",
          "data": {
            "text/plain": [
              "<Figure size 432x288 with 1 Axes>"
            ],
            "image/png": "[encoded data removed]"
          },
          "metadata": {
            "needs_background": "light"
          }
        }
      ],
      "source": [
        "categorical_df = df1.copy()\n",
        "modelBL, BLhistory, BLX , BLencoded_y = BaseLine_experiment(categorical_df,early=True)\n",
        "plot_Experiment(BLhistory,.5)"
      ]
    },
    {
      "cell_type": "code",
      "execution_count": 28,
      "metadata": {
        "colab": {
          "base_uri": "https://localhost:8080/"
        },
        "id": "XtHJHwkAzf-k",
        "outputId": "44273adc-9bc7-43a5-b144-b77efad872d3"
      },
      "outputs": [
        {
          "output_type": "stream",
          "name": "stdout",
          "text": [
            "297/297 [==============================] - 0s 1ms/step - loss: 0.0205 - accuracy: 0.9947\n",
            "['loss', 'accuracy']\n",
            "Baseline: accuracy: 99.47%: loss: 0.02\n"
          ]
        }
      ],
      "source": [
        "scores = modelBL.evaluate(BLX,BLencoded_y, batch_size=batch_size,verbose=1)\n",
        "print(modelBL.metrics_names)\n",
        "acc, loss = scores[1]*100, scores[0]\n",
        "print('Baseline: accuracy: {:.2f}%: loss: {:.2f}'.format(acc, loss))"
      ]
    },
    {
      "cell_type": "markdown",
      "source": [
        "#Hyper-parameter Tuning"
      ],
      "metadata": {
        "id": "fmMVY5_1w9G8"
      }
    },
    {
      "cell_type": "markdown",
      "metadata": {
        "id": "WXXi6jERgwja"
      },
      "source": [
        "#### Early Stop Implementation. "
      ]
    },
    {
      "cell_type": "code",
      "execution_count": 29,
      "metadata": {
        "id": "ePBe4eNCD3OE"
      },
      "outputs": [],
      "source": [
        "def ESexperiment(dataframe, early=False):\n",
        "    kfold = StratifiedKFold(n_splits=10, shuffle=True, random_state=seed)\n",
        "    encoded_y = dataframe.copy()\n",
        "    encoded_y = encode_labels(encoded_y)\n",
        "    X=StandardScaler().fit_transform(dataframe.drop(dep_var, axis=1))\n",
        "    y=LabelEncoder().fit_transform(dataframe[dep_var].values)\n",
        "    start_time = time.time()\n",
        "    for index, (train_indices, val_indices) in enumerate(kfold.split(X, y)):\n",
        "        xtrain, xval = X[train_indices], X[val_indices]\n",
        "        ytrain, yval = encoded_y[train_indices], encoded_y[val_indices]\n",
        "        inputDim=xtrain.shape[1]\n",
        "        outputDim=ytrain.shape[1]\n",
        "        print(\"Running fold #\" + str(index+1))\n",
        "        model = TESTbaseline_model(inputDim,outputDim)    \n",
        "        time_gen = int(time.time())        \n",
        "        global model_name\n",
        "        model_name = f\"{dataFile}_{time_gen}\"\n",
        "        tensorboard = TensorBoard(log_dir='keras_tensorflow_logs/{}/{}_{}'.format(experimentTitle, model_name, model_extension),update_freq='epoch')\n",
        "        if early_stop:\n",
        "            callbacks = [tensorboard,early_stop]\n",
        "        else:\n",
        "            callbacks = [tensorboard, early_stop]\n",
        "        history = model.fit(xtrain, ytrain, epochs=epochs, validation_data=(xval,yval), callbacks=callbacks, batch_size=batch_size, verbose=0)        \n",
        "    global end_time \n",
        "    end_time = time.time() - start_time\n",
        "    TimeSetup = str(datetime.timedelta(seconds=end_time))\n",
        "    Minutes = int(end_time/60)\n",
        "    print(\"Time to complete {} [hour:min:sec]\".format(TimeSetup))    \n",
        "    return model, history, X, encoded_y"
      ]
    },
    {
      "cell_type": "code",
      "execution_count": null,
      "metadata": {
        "colab": {
          "base_uri": "https://localhost:8080/",
          "height": 374
        },
        "id": "iOUl3d7vERKW",
        "outputId": "540f0b71-c120-4af3-bd67-97043d648ca1"
      },
      "outputs": [
        {
          "name": "stdout",
          "output_type": "stream",
          "text": [
            "Running fold #1\n",
            "Categorical Cross-Entropy Loss Function\n",
            "Running fold #2\n",
            "Categorical Cross-Entropy Loss Function\n",
            "Running fold #3\n",
            "Categorical Cross-Entropy Loss Function\n",
            "Running fold #4\n",
            "Categorical Cross-Entropy Loss Function\n",
            "Running fold #5\n",
            "Categorical Cross-Entropy Loss Function\n",
            "Running fold #6\n",
            "Categorical Cross-Entropy Loss Function\n",
            "Running fold #7\n",
            "Categorical Cross-Entropy Loss Function\n",
            "Running fold #8\n",
            "Categorical Cross-Entropy Loss Function\n",
            "Running fold #9\n",
            "Categorical Cross-Entropy Loss Function\n",
            "Running fold #10\n",
            "Categorical Cross-Entropy Loss Function\n",
            "Time to complete 0:10:33.528763 [hour:min:sec]\n"
          ]
        }
      ],
      "source": [
        "categorical_df = df1.copy()\n",
        "modelES, EShistory, ESX , ESencoded_y = ESexperiment(categorical_df,early=True)"
      ]
    },
    {
      "cell_type": "code",
      "execution_count": null,
      "metadata": {
        "id": "LGPulWMSPqNM"
      },
      "outputs": [],
      "source": [
        "plot_Experiment(EShistory,.5)"
      ]
    },
    {
      "cell_type": "code",
      "execution_count": null,
      "metadata": {
        "colab": {
          "base_uri": "https://localhost:8080/",
          "height": 88
        },
        "id": "OS4DU8V7JI7w",
        "outputId": "af078e47-60be-49cf-faea-e6149f38713e"
      },
      "outputs": [
        {
          "name": "stdout",
          "output_type": "stream",
          "text": [
            "36697/36697 [==============================] - 1s 32us/sample - loss: 0.0558 - acc: 0.9838\n",
            "['loss', 'acc']\n",
            "Baseline: accuracy: 98.38%: loss: 0.06\n"
          ]
        }
      ],
      "source": [
        "scores = modelES.evaluate(ESX,ESencoded_y, batch_size=batch_size,verbose=1)\n",
        "print(modelES.metrics_names)\n",
        "acc, loss = scores[1]*100, scores[0]\n",
        "print('Baseline: accuracy: {:.2f}%: loss: {:.2f}'.format(acc, loss))"
      ]
    },
    {
      "cell_type": "markdown",
      "metadata": {
        "id": "fl2OPf46jxaH"
      },
      "source": [
        "##### Add Dropout"
      ]
    },
    {
      "cell_type": "code",
      "execution_count": null,
      "metadata": {
        "id": "sWI-vBs-jzRw"
      },
      "outputs": [],
      "source": [
        "def Dropoutbaseline_model(inputDim=-1,outputDim=-1):\n",
        "    global model_extension, experimentTitle\n",
        "    model = tf.keras.Sequential([\n",
        "        Dense(128, activation='relu', input_shape=(inputDim,)),\n",
        "        BatchNormalization(),\n",
        "        Dropout(.5),\n",
        "        Dense(64, activation='relu'),\n",
        "        BatchNormalization(),\n",
        "        Dropout(.5),\n",
        "        Dense(outputDim, activation='softmax')\n",
        "    ]) #This is the output layer\n",
        "\n",
        "    if outputDim > 2:\n",
        "        print('Categorical Cross-Entropy Loss Function')\n",
        "        model_extension = \"_categorical\"\n",
        "        experimentTitle = \"Categorical\"\n",
        "        model.compile(optimizer='adam',\n",
        "                 loss='categorical_crossentropy',\n",
        "                 metrics=['accuracy'])\n",
        "    else:\n",
        "        print('Binary Cross-Entropy Loss Function')\n",
        "        model_extension = \"_binary\"\n",
        "        experimentTitle = \"Binary\"\n",
        "        model.compile(optimizer='adam',\n",
        "                loss='binary_crossentropy',\n",
        "                metrics=['accuracy'])\n",
        "def DPexperiment(dataframe, early=False):\n",
        "    kfold = StratifiedKFold(n_splits=10, shuffle=True, random_state=seed)\n",
        "    encoded_y = dataframe.copy()\n",
        "    encoded_y = encode_labels(encoded_y)\n",
        "    X=StandardScaler().fit_transform(dataframe.drop(dep_var, axis=1))\n",
        "    y=LabelEncoder().fit_transform(dataframe[dep_var].values)\n",
        "    start_time = time.time()\n",
        "    for index, (train_indices, val_indices) in enumerate(kfold.split(X, y)):\n",
        "        xtrain, xval = X[train_indices], X[val_indices]\n",
        "        ytrain, yval = encoded_y[train_indices], encoded_y[val_indices]\n",
        "        inputDim=xtrain.shape[1]\n",
        "        outputDim=ytrain.shape[1]\n",
        "        print(\"Running fold #\" + str(index+1))\n",
        "        model = TESTbaseline_model(inputDim,outputDim)    \n",
        "        time_gen = int(time.time())        \n",
        "        global model_name\n",
        "        model_name = f\"{dataFile}_{time_gen}\"\n",
        "        tensorboard = TensorBoard(log_dir='keras_tensorflow_logs/{}/{}_{}'.format(experimentTitle, model_name, model_extension),update_freq='epoch')\n",
        "        if early_stop:\n",
        "            callbacks = [tensorboard,early_stop]\n",
        "        else:\n",
        "            callbacks = [tensorboard, early_stop]\n",
        "        history = model.fit(xtrain, ytrain, epochs=epochs, validation_data=(xval,yval), callbacks=callbacks, batch_size=batch_size, verbose=0)        \n",
        "    global end_time \n",
        "    end_time = time.time() - start_time\n",
        "    TimeSetup = str(datetime.timedelta(seconds=end_time))\n",
        "    Minutes = int(end_time/60)\n",
        "    print(\"Time to complete {} [hour:min:sec]\".format(TimeSetup))    \n",
        "    return model, history, X, encoded_y"
      ]
    },
    {
      "cell_type": "code",
      "execution_count": null,
      "metadata": {
        "colab": {
          "base_uri": "https://localhost:8080/",
          "height": 374
        },
        "id": "mqLoSFcWkOyS",
        "outputId": "14a11416-0ebe-40df-9729-3f6c4d5df6d5"
      },
      "outputs": [
        {
          "name": "stdout",
          "output_type": "stream",
          "text": [
            "Running fold #1\n",
            "Categorical Cross-Entropy Loss Function\n",
            "Running fold #2\n",
            "Categorical Cross-Entropy Loss Function\n",
            "Running fold #3\n",
            "Categorical Cross-Entropy Loss Function\n",
            "Running fold #4\n",
            "Categorical Cross-Entropy Loss Function\n",
            "Running fold #5\n",
            "Categorical Cross-Entropy Loss Function\n",
            "Running fold #6\n",
            "Categorical Cross-Entropy Loss Function\n",
            "Running fold #7\n",
            "Categorical Cross-Entropy Loss Function\n",
            "Running fold #8\n",
            "Categorical Cross-Entropy Loss Function\n",
            "Running fold #9\n",
            "Categorical Cross-Entropy Loss Function\n",
            "Running fold #10\n",
            "Categorical Cross-Entropy Loss Function\n",
            "Time to complete 0:15:23.401620 [hour:min:sec]\n"
          ]
        }
      ],
      "source": [
        "categorical_df = df1.copy()\n",
        "modelDropout, DropOuthistory, DPX , DPencoded_y = DPexperiment(categorical_df,early=True)"
      ]
    },
    {
      "cell_type": "code",
      "execution_count": null,
      "metadata": {
        "colab": {
          "base_uri": "https://localhost:8080/",
          "height": 549
        },
        "id": "ntquWQdzkVH7",
        "outputId": "b4174bac-8c1f-4ec1-c76a-64e1a2463676"
      },
      "outputs": [
        {
          "data": {
            "image/png": "[encoded data removed]",
            "text/plain": [
              "<Figure size 432x288 with 1 Axes>"
            ]
          },
          "metadata": {
            "tags": []
          },
          "output_type": "display_data"
        },
        {
          "data": {
            "image/png": "[encoded data removed]",
            "text/plain": [
              "<Figure size 432x288 with 1 Axes>"
            ]
          },
          "metadata": {
            "tags": []
          },
          "output_type": "display_data"
        }
      ],
      "source": [
        " plot_Experiment(DropOuthistory,5)"
      ]
    },
    {
      "cell_type": "code",
      "execution_count": null,
      "metadata": {
        "colab": {
          "base_uri": "https://localhost:8080/",
          "height": 88
        },
        "id": "8xSpHjETkw6E",
        "outputId": "eb459922-76ec-469c-c3bc-a6fc07d8b35b"
      },
      "outputs": [
        {
          "name": "stdout",
          "output_type": "stream",
          "text": [
            "36697/36697 [==============================] - 1s 37us/sample - loss: 0.0426 - acc: 0.9862\n",
            "['loss', 'acc']\n",
            "Baseline: accuracy: 98.62%: loss: 0.04\n"
          ]
        }
      ],
      "source": [
        "scores = modelDropout.evaluate(DPX,DPencoded_y, batch_size=batch_size,verbose=1)\n",
        "print(modelDropout.metrics_names)\n",
        "acc, loss = scores[1]*100, scores[0]\n",
        "print('Baseline: accuracy: {:.2f}%: loss: {:.2f}'.format(acc, loss))"
      ]
    },
    {
      "cell_type": "markdown",
      "metadata": {
        "id": "b2qVnfHf0wzA"
      },
      "source": [
        "##### Add weight regularization"
      ]
    },
    {
      "cell_type": "code",
      "execution_count": null,
      "metadata": {
        "id": "YShFPePD0zEL"
      },
      "outputs": [],
      "source": [
        "def Regularize_Model(inputDim=-1,outputDim=-1):\n",
        "  global model_extensionR, Experiment_TitleR\n",
        "  model = tf.keras.Sequential([\n",
        "        Dense(128, kernel_regularizer=keras.regularizers.l2(0.001), activation='relu',input_shape=(inputDim,)),\n",
        "        BatchNormalization(),\n",
        "        Dense(64, activation='relu', kernel_regularizer=keras.regularizers.l2(0.001)),\n",
        "        BatchNormalization(),\n",
        "        Dense(outputDim, activation='softmax')\n",
        "    ])\n",
        "  if outputDim > 2:\n",
        "        print('Categorical Cross-Entropy Loss Function')\n",
        "        model_extension = \"_categorical\"\n",
        "        experimentTitle = \"Categorical\"\n",
        "        model.compile(optimizer='adam',\n",
        "                 loss='categorical_crossentropy',\n",
        "                 metrics=['accuracy'])\n",
        "  else:\n",
        "      print('Binary Cross-Entropy Loss Function')\n",
        "      model_extension = \"_binary\"\n",
        "      experimentTitle = \"Binary\"\n",
        "      model.compile(optimizer='adam',\n",
        "              loss='binary_crossentropy',\n",
        "              metrics=['accuracy'])\n",
        "  return model\n",
        "  "
      ]
    },
    {
      "cell_type": "code",
      "execution_count": null,
      "metadata": {
        "id": "6kwfWUu83GQh"
      },
      "outputs": [],
      "source": [
        "def L2experiment(dataframe, early=False):\n",
        "    kfold = StratifiedKFold(n_splits=10, shuffle=True, random_state=seed)\n",
        "    encoded_y = dataframe.copy()\n",
        "    encoded_y = encode_labels(encoded_y)\n",
        "    X=StandardScaler().fit_transform(dataframe.drop(dep_var, axis=1))\n",
        "    y=LabelEncoder().fit_transform(dataframe[dep_var].values)\n",
        "    start_time = time.time()\n",
        "    for index, (train_indices, val_indices) in enumerate(kfold.split(X, y)):\n",
        "        xtrain, xval = X[train_indices], X[val_indices]\n",
        "        ytrain, yval = encoded_y[train_indices], encoded_y[val_indices]\n",
        "        inputDim=xtrain.shape[1]\n",
        "        outputDim=ytrain.shape[1]\n",
        "        print(\"Running fold #\" + str(index+1))\n",
        "        model = Regularize_Model(inputDim,outputDim)    \n",
        "        time_gen = int(time.time())        \n",
        "        global model_name\n",
        "        model_name = f\"{dataFile}_{time_gen}\"\n",
        "        tensorboard = TensorBoard(log_dir='keras_tensorflow_logs/{}/{}_{}'.format(experimentTitle, model_name, model_extension),update_freq='epoch')\n",
        "        if early_stop:\n",
        "            callbacks = [tensorboard,early_stop]\n",
        "        else:\n",
        "            callbacks = [tensorboard, early_stop]\n",
        "        history = model.fit(xtrain, ytrain, epochs=epochs, validation_data=(xval,yval), callbacks=callbacks, batch_size=batch_size, verbose=0)        \n",
        "    global end_time \n",
        "    end_time = time.time() - start_time\n",
        "    TimeSetup = str(datetime.timedelta(seconds=end_time))\n",
        "    Minutes = int(end_time/60)\n",
        "    print(\"Time to complete {} [hour:min:sec]\".format(TimeSetup))    \n",
        "    return model, history, X, encoded_y"
      ]
    },
    {
      "cell_type": "code",
      "execution_count": null,
      "metadata": {
        "colab": {
          "base_uri": "https://localhost:8080/",
          "height": 374
        },
        "id": "MKsibcYj3gYr",
        "outputId": "c8fce321-d464-4df8-f9c4-08771ffd4894"
      },
      "outputs": [
        {
          "name": "stdout",
          "output_type": "stream",
          "text": [
            "Running fold #1\n",
            "Categorical Cross-Entropy Loss Function\n",
            "Running fold #2\n",
            "Categorical Cross-Entropy Loss Function\n",
            "Running fold #3\n",
            "Categorical Cross-Entropy Loss Function\n",
            "Running fold #4\n",
            "Categorical Cross-Entropy Loss Function\n",
            "Running fold #5\n",
            "Categorical Cross-Entropy Loss Function\n",
            "Running fold #6\n",
            "Categorical Cross-Entropy Loss Function\n",
            "Running fold #7\n",
            "Categorical Cross-Entropy Loss Function\n",
            "Running fold #8\n",
            "Categorical Cross-Entropy Loss Function\n",
            "Running fold #9\n",
            "Categorical Cross-Entropy Loss Function\n",
            "Running fold #10\n",
            "Categorical Cross-Entropy Loss Function\n",
            "Time to complete 0:12:03.167546 [hour:min:sec]\n"
          ]
        }
      ],
      "source": [
        "categorical_df = df1.copy()\n",
        "modelReg, Reghistory, RegX , Regencoded_y = L2experiment(categorical_df,early=True)"
      ]
    },
    {
      "cell_type": "code",
      "execution_count": null,
      "metadata": {
        "colab": {
          "base_uri": "https://localhost:8080/",
          "height": 88
        },
        "id": "AGTYU3bw3pip",
        "outputId": "21569b39-7950-4022-c973-2fad07ba174d"
      },
      "outputs": [
        {
          "name": "stdout",
          "output_type": "stream",
          "text": [
            "36697/36697 [==============================] - 2s 43us/sample - loss: 0.1510 - acc: 0.9713\n",
            "['loss', 'acc']\n",
            "Baseline: accuracy: 97.13%: loss: 0.15\n"
          ]
        }
      ],
      "source": [
        "scores = modelReg.evaluate(RegX,Regencoded_y, batch_size=batch_size,verbose=1)\n",
        "print(modelReg.metrics_names)\n",
        "acc, loss = scores[1]*100, scores[0]\n",
        "print('Baseline: accuracy: {:.2f}%: loss: {:.2f}'.format(acc, loss))"
      ]
    },
    {
      "cell_type": "markdown",
      "metadata": {
        "id": "LTi8_aKlFlFY"
      },
      "source": [
        "##### Save Models"
      ]
    },
    {
      "cell_type": "code",
      "execution_count": null,
      "metadata": {
        "id": "QlyVbgoyFoeD"
      },
      "outputs": [],
      "source": [
        "modelReg.save('{}.model'.format(\"Regularization\"))\n",
        "modelDropout.save('{}.model'.format(\"DropOut\"))\n",
        "modelES.save('{}.model'.format(\"Early_Stop\"))\n",
        "modelBL.save('{}.model'.format(\"Base_Line\"))"
      ]
    },
    {
      "cell_type": "markdown",
      "metadata": {
        "id": "QxvO-5wqplx1"
      },
      "source": [
        "### Run the experiment"
      ]
    },
    {
      "cell_type": "code",
      "execution_count": null,
      "metadata": {
        "colab": {
          "base_uri": "https://localhost:8080/",
          "height": 374
        },
        "id": "wDKDVrhZplx2",
        "outputId": "8fefe520-f4e7-4f38-b7fc-4160ab8632f3",
        "scrolled": false
      },
      "outputs": [
        {
          "name": "stdout",
          "output_type": "stream",
          "text": [
            "Running fold #1\n",
            "Categorical Cross-Entropy Loss Function\n",
            "Running fold #2\n",
            "Categorical Cross-Entropy Loss Function\n",
            "Running fold #3\n",
            "Categorical Cross-Entropy Loss Function\n",
            "Running fold #4\n",
            "Categorical Cross-Entropy Loss Function\n",
            "Running fold #5\n",
            "Categorical Cross-Entropy Loss Function\n",
            "Running fold #6\n",
            "Categorical Cross-Entropy Loss Function\n",
            "Running fold #7\n",
            "Categorical Cross-Entropy Loss Function\n",
            "Running fold #8\n",
            "Categorical Cross-Entropy Loss Function\n",
            "Running fold #9\n",
            "Categorical Cross-Entropy Loss Function\n",
            "Running fold #10\n",
            "Categorical Cross-Entropy Loss Function\n",
            "Time to complete 0:32:34.088277 [hour:min:sec]\n"
          ]
        }
      ],
      "source": [
        "categorical_df = df1.copy()\n",
        "model, history, X , encoded_y, tTime = experiment(categorical_df,early=True)"
      ]
    },
    {
      "cell_type": "markdown",
      "metadata": {
        "id": "FoHKjaqpGQub"
      },
      "source": [
        "#### Save the model as a file"
      ]
    },
    {
      "cell_type": "code",
      "execution_count": null,
      "metadata": {
        "id": "vixNeoaEGW9n"
      },
      "outputs": [],
      "source": [
        "model.save('{}.model'.format(os.path.basename(dataPath)))"
      ]
    },
    {
      "cell_type": "markdown",
      "metadata": {
        "id": "R1VG5cxSplyA"
      },
      "source": [
        "### Model Results"
      ]
    },
    {
      "cell_type": "code",
      "execution_count": null,
      "metadata": {
        "colab": {
          "base_uri": "https://localhost:8080/",
          "height": 88
        },
        "id": "p3xvC6ZlG9Wz",
        "outputId": "18e11d91-40cc-4102-bfed-469fa46444bd"
      },
      "outputs": [
        {
          "name": "stdout",
          "output_type": "stream",
          "text": [
            "36697/36697 [==============================] - 2s 45us/sample - loss: 0.1322 - acc: 0.9553\n",
            "['loss', 'acc']\n",
            "Baseline: accuracy: 95.53%: loss: 0.13\n"
          ]
        }
      ],
      "source": [
        "scores = model.evaluate(X,encoded_y, batch_size=batch_size,verbose=1)\n",
        "print(model.metrics_names)\n",
        "acc, loss = scores[1]*100, scores[0]\n",
        "print('Baseline: accuracy: {:.2f}%: loss: {:.2f}'.format(acc, loss))"
      ]
    },
    {
      "cell_type": "markdown",
      "metadata": {
        "id": "hlNdQsyiplyF"
      },
      "source": [
        "#### Generate predictions from the model"
      ]
    },
    {
      "cell_type": "code",
      "execution_count": null,
      "metadata": {
        "colab": {
          "base_uri": "https://localhost:8080/",
          "height": 34
        },
        "id": "a0jLyQXHplyG",
        "outputId": "d0b9ed32-6454-47d5-b769-4c4113a22c46"
      },
      "outputs": [
        {
          "name": "stdout",
          "output_type": "stream",
          "text": [
            "36697/36697 [==============================] - 3s 72us/sample\n"
          ]
        }
      ],
      "source": [
        "prediction_y = model.predict_classes(X, batch_size=batch_size, verbose=1)"
      ]
    },
    {
      "cell_type": "markdown",
      "metadata": {
        "id": "44-OsF7tplyK"
      },
      "source": [
        "#### Confusion Matrix"
      ]
    },
    {
      "cell_type": "code",
      "execution_count": null,
      "metadata": {
        "colab": {
          "base_uri": "https://localhost:8080/",
          "height": 286
        },
        "id": "xjsWSmWvplyM",
        "outputId": "fb45ef78-80d7-401d-a980-8123885b3513"
      },
      "outputs": [
        {
          "data": {
            "text/plain": [
              "<matplotlib.axes._subplots.AxesSubplot at 0x7f593e990c18>"
            ]
          },
          "execution_count": 106,
          "metadata": {
            "tags": []
          },
          "output_type": "execute_result"
        },
        {
          "data": {
            "image/png": "[encoded data removed]",
            "text/plain": [
              "<Figure size 432x288 with 2 Axes>"
            ]
          },
          "metadata": {
            "tags": []
          },
          "output_type": "display_data"
        }
      ],
      "source": [
        "y=LabelEncoder().fit_transform(categorical_df[dep_var].values)\n",
        "cm = confusion_matrix(y, prediction_y)\n",
        "sn.heatmap(cm, annot=True, fmt='g', cmap='Blues', xticklabels=['Defacement','Benign','Malware','Phishing','Spam'],\n",
        "           yticklabels=['Defacement','Benign','Malware','Phishing','Spam'])"
      ]
    },
    {
      "cell_type": "markdown",
      "metadata": {
        "id": "UeVn3oV7plyQ"
      },
      "source": [
        "#### Graph of Categorical Cross-Entropy Model"
      ]
    },
    {
      "cell_type": "code",
      "execution_count": null,
      "metadata": {
        "colab": {
          "base_uri": "https://localhost:8080/",
          "height": 295
        },
        "id": "GzH_f_T3plyU",
        "outputId": "5996d994-248a-4752-d2b8-b67bfff86b5d"
      },
      "outputs": [
        {
          "data": {
            "image/png": "[encoded data removed]",
            "text/plain": [
              "<Figure size 432x288 with 1 Axes>"
            ]
          },
          "metadata": {
            "tags": []
          },
          "output_type": "display_data"
        }
      ],
      "source": [
        "plotAccuracy('Categorical Model Accuracy')"
      ]
    },
    {
      "cell_type": "code",
      "execution_count": null,
      "metadata": {
        "colab": {
          "base_uri": "https://localhost:8080/",
          "height": 295
        },
        "id": "_hdnJn-I--5w",
        "outputId": "9c49689b-b8fd-4daa-8879-8bb3a622ba2c",
        "scrolled": true
      },
      "outputs": [
        {
          "data": {
            "image/png": "[encoded data removed]",
            "text/plain": [
              "<Figure size 432x288 with 1 Axes>"
            ]
          },
          "metadata": {
            "tags": []
          },
          "output_type": "display_data"
        }
      ],
      "source": [
        "plotLoss('Categorical Model Loss')"
      ]
    },
    {
      "cell_type": "code",
      "execution_count": null,
      "metadata": {
        "colab": {
          "base_uri": "https://localhost:8080/",
          "height": 549
        },
        "id": "KQTabk5aJFHR",
        "outputId": "aa2e05df-0804-4611-ea88-e1f3bd7aa9f6"
      },
      "outputs": [
        {
          "data": {
            "image/png": "[encoded data removed]",
            "text/plain": [
              "<Figure size 432x288 with 1 Axes>"
            ]
          },
          "metadata": {
            "tags": []
          },
          "output_type": "display_data"
        },
        {
          "data": {
            "image/png": "[encoded data removed]",
            "text/plain": [
              "<Figure size 432x288 with 1 Axes>"
            ]
          },
          "metadata": {
            "tags": []
          },
          "output_type": "display_data"
        }
      ],
      "source": [
        "plot_Experiment(history, 5)"
      ]
    },
    {
      "cell_type": "markdown",
      "metadata": {
        "id": "XtWNPIlMplyY"
      },
      "source": [
        "### Write results to file"
      ]
    },
    {
      "cell_type": "code",
      "execution_count": null,
      "metadata": {
        "id": "_YP-tODMplyZ"
      },
      "outputs": [],
      "source": [
        "\n",
        "def saveLog():\n",
        "    resultFile = os.path.join(resultPath, dataFile)\n",
        "    with open('{}.result'.format(resultFile), 'a') as fout:\n",
        "        fout.write('{} results...'.format(model_name+model_extension))\n",
        "        fout.write('\\taccuracy: {:.2f} loss: {:.2f} time_elapsed: {} [hr:min:sec] \\n'.format(acc, loss,tTime ))"
      ]
    },
    {
      "cell_type": "code",
      "execution_count": null,
      "metadata": {
        "id": "NzeDeFBV--6B"
      },
      "outputs": [],
      "source": [
        "saveLog()"
      ]
    },
    {
      "cell_type": "markdown",
      "metadata": {
        "id": "HoJYzC0NjTZJ"
      },
      "source": [
        ""
      ]
    },
    {
      "cell_type": "markdown",
      "metadata": {
        "id": "aOJNLEDfplyc"
      },
      "source": [
        "## Binary Classification of Labels\n",
        "> Change all malicious labels to value 1 and benign label to 0"
      ]
    },
    {
      "cell_type": "markdown",
      "metadata": {
        "id": "QH5SPeyD1zUX"
      },
      "source": [
        "### Binarize Data"
      ]
    },
    {
      "cell_type": "code",
      "execution_count": null,
      "metadata": {
        "id": "QzpGC1TYplyd"
      },
      "outputs": [],
      "source": [
        "lblTypes = list(lblTypes)\n",
        "lblTypes = dict(zip(lblTypes, [1, 1, 1, 1, 1]))\n",
        "lblTypes['benign'] = 0"
      ]
    },
    {
      "cell_type": "code",
      "execution_count": null,
      "metadata": {
        "id": "IQ5kYPnTplyg"
      },
      "outputs": [],
      "source": [
        "binary_df = df1.copy()\n",
        "binary_df[label] = binary_df[label].map(lblTypes)"
      ]
    },
    {
      "cell_type": "markdown",
      "metadata": {
        "id": "taziMECuplyj"
      },
      "source": [
        "### Train the Binary Model"
      ]
    },
    {
      "cell_type": "code",
      "execution_count": null,
      "metadata": {
        "colab": {
          "base_uri": "https://localhost:8080/",
          "height": 445
        },
        "id": "llXRdiQ1plyk",
        "outputId": "ff5b00f4-c6bc-4256-f9ba-73b6d8f60f79"
      },
      "outputs": [
        {
          "name": "stdout",
          "output_type": "stream",
          "text": [
            "Running fold #1\n"
          ]
        },
        {
          "name": "stderr",
          "output_type": "stream",
          "text": [
            "W0731 01:50:57.923707 140023254493056 deprecation.py:323] From /usr/local/lib/python3.6/dist-packages/tensorflow/python/ops/math_grad.py:1250: add_dispatch_support.<locals>.wrapper (from tensorflow.python.ops.array_ops) is deprecated and will be removed in a future version.\n",
            "Instructions for updating:\n",
            "Use tf.where in 2.0, which has the same broadcast rule as np.where\n"
          ]
        },
        {
          "name": "stdout",
          "output_type": "stream",
          "text": [
            "Binary Cross-Entropy Loss Function\n",
            "Running fold #2\n",
            "Binary Cross-Entropy Loss Function\n",
            "Running fold #3\n",
            "Binary Cross-Entropy Loss Function\n",
            "Running fold #4\n",
            "Binary Cross-Entropy Loss Function\n",
            "Running fold #5\n",
            "Binary Cross-Entropy Loss Function\n",
            "Running fold #6\n",
            "Binary Cross-Entropy Loss Function\n",
            "Running fold #7\n",
            "Binary Cross-Entropy Loss Function\n",
            "Running fold #8\n",
            "Binary Cross-Entropy Loss Function\n",
            "Running fold #9\n",
            "Binary Cross-Entropy Loss Function\n",
            "Running fold #10\n",
            "Binary Cross-Entropy Loss Function\n",
            "Time to complete 0:25:22.330827 [hour:min:sec]\n"
          ]
        }
      ],
      "source": [
        "model, history, X , encoded_y, tTime = experiment(binary_df)"
      ]
    },
    {
      "cell_type": "markdown",
      "metadata": {
        "id": "Ta-ruG0K1eVN"
      },
      "source": [
        "### Model Results"
      ]
    },
    {
      "cell_type": "code",
      "execution_count": null,
      "metadata": {
        "colab": {
          "base_uri": "https://localhost:8080/",
          "height": 88
        },
        "id": "6FV5LefXplyt",
        "outputId": "a71d3e5d-36ec-4e63-ebdd-ac5b057e187f"
      },
      "outputs": [
        {
          "name": "stdout",
          "output_type": "stream",
          "text": [
            "36697/36697 [==============================] - 4s 115us/sample - loss: 0.0441 - acc: 0.9862\n",
            "['loss', 'acc']\n",
            "Baseline: accuracy: 98.62%: loss: 0.04\n"
          ]
        }
      ],
      "source": [
        "scores = model.evaluate(X,encoded_y, verbose=1)\n",
        "print(model.metrics_names)\n",
        "acc, loss = scores[1]*100, scores[0]\n",
        "print('Baseline: accuracy: {:.2f}%: loss: {:.2f}'.format(acc, loss))"
      ]
    },
    {
      "cell_type": "markdown",
      "metadata": {
        "id": "DviMoEPX1hxZ"
      },
      "source": [
        "#### Predictions"
      ]
    },
    {
      "cell_type": "code",
      "execution_count": null,
      "metadata": {
        "colab": {
          "base_uri": "https://localhost:8080/",
          "height": 34
        },
        "id": "0kU7Ncq7ply2",
        "outputId": "d1d227e1-20b2-415d-a983-1c29baedb02e"
      },
      "outputs": [
        {
          "name": "stdout",
          "output_type": "stream",
          "text": [
            "36697/36697 [==============================] - 4s 106us/sample\n"
          ]
        }
      ],
      "source": [
        "prediction_y = model.predict_classes(X, batch_size=batch_size, verbose=1)"
      ]
    },
    {
      "cell_type": "code",
      "execution_count": null,
      "metadata": {
        "colab": {
          "base_uri": "https://localhost:8080/",
          "height": 286
        },
        "id": "0T2dZA9Nply8",
        "outputId": "c01b1cd1-dd0c-44ce-af0a-59599b9807d5"
      },
      "outputs": [
        {
          "data": {
            "text/plain": [
              "<matplotlib.axes._subplots.AxesSubplot at 0x7f59308fbda0>"
            ]
          },
          "execution_count": 125,
          "metadata": {
            "tags": []
          },
          "output_type": "execute_result"
        },
        {
          "data": {
            "image/png": "[encoded data removed]",
            "text/plain": [
              "<Figure size 432x288 with 2 Axes>"
            ]
          },
          "metadata": {
            "tags": []
          },
          "output_type": "display_data"
        }
      ],
      "source": [
        "y=LabelEncoder().fit_transform(binary_df[dep_var].values)\n",
        "cm = confusion_matrix(y, prediction_y)\n",
        "sn.heatmap(cm, cmap='Blues', annot=True, fmt='g', xticklabels=['Benign', 'Malicious'],\n",
        "        yticklabels=['Benign', 'Malicious'])"
      ]
    },
    {
      "cell_type": "markdown",
      "metadata": {
        "id": "4YdW3jb8plzB"
      },
      "source": [
        "#### Graph of Binary Cross-Entropy Model"
      ]
    },
    {
      "cell_type": "code",
      "execution_count": null,
      "metadata": {
        "colab": {
          "base_uri": "https://localhost:8080/",
          "height": 295
        },
        "id": "AzeLN1BSplzC",
        "outputId": "36e325d5-77dc-4834-e402-22aa4e7ae855"
      },
      "outputs": [
        {
          "data": {
            "image/png": "[encoded data removed]",
            "text/plain": [
              "<Figure size 432x288 with 1 Axes>"
            ]
          },
          "metadata": {
            "tags": []
          },
          "output_type": "display_data"
        }
      ],
      "source": [
        "plotAccuracy('Binary Model Accuracy')"
      ]
    },
    {
      "cell_type": "code",
      "execution_count": null,
      "metadata": {
        "colab": {
          "base_uri": "https://localhost:8080/",
          "height": 295
        },
        "id": "FObJJIn9--7X",
        "outputId": "54a30914-5d63-4b15-c8d4-d6669fc2db16"
      },
      "outputs": [
        {
          "data": {
            "image/png": "[encoded data removed]",
            "text/plain": [
              "<Figure size 432x288 with 1 Axes>"
            ]
          },
          "metadata": {
            "tags": []
          },
          "output_type": "display_data"
        }
      ],
      "source": [
        "plotLoss('Binary Model Loss')"
      ]
    },
    {
      "cell_type": "markdown",
      "metadata": {
        "id": "A8Il5_kL1oQt"
      },
      "source": [
        "### Write Results to File"
      ]
    },
    {
      "cell_type": "code",
      "execution_count": null,
      "metadata": {
        "id": "Qz6wRy6GplzH"
      },
      "outputs": [],
      "source": [
        "saveLog()"
      ]
    },
    {
      "cell_type": "code",
      "execution_count": null,
      "metadata": {
        "colab": {
          "base_uri": "https://localhost:8080/"
        },
        "id": "g-SU-b-6--7k",
        "outputId": "2acf7093-1865-48cf-e5e7-43e7e13fb2a1"
      },
      "outputs": [
        {
          "output_type": "stream",
          "name": "stdout",
          "text": [
            "36697/36697 [==============================] - 1s 32us/sample - loss: 0.0558 - acc: 0.9844\n",
            "['loss', 'acc']\n",
            "Baseline: accuracy: 98.44%: loss: 0.06\n"
          ]
        }
      ],
      "source": [
        "print(\"36697/36697 [==============================] - 1s 32us/sample - loss: 0.0558 - acc: 0.9844\")\n",
        "print(\"['loss', 'acc']\")\n",
        "print(\"Baseline: accuracy: 98.44%: loss: 0.06\")"
      ]
    }
  ],
  "metadata": {
    "colab": {
      "collapsed_sections": [],
      "name": "Keras-Tensorflow-Experiments.ipynb",
      "provenance": [],
      "include_colab_link": true
    },
    "kernelspec": {
      "display_name": "Python 3",
      "language": "python",
      "name": "python3"
    },
    "language_info": {
      "codemirror_mode": {
        "name": "ipython",
        "version": 3
      },
      "file_extension": ".py",
      "mimetype": "text/x-python",
      "name": "python",
      "nbconvert_exporter": "python",
      "pygments_lexer": "ipython3",
      "version": "3.7.2"
    }
  },
  "nbformat": 4,
  "nbformat_minor": 0
}